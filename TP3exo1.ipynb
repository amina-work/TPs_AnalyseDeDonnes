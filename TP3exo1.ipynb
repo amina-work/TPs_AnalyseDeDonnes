{
 "cells": [
  {
   "cell_type": "code",
   "execution_count": 410,
   "metadata": {},
   "outputs": [],
   "source": [
    "#importing stuff\n",
    "import numpy as np\n",
    "import pandas as pd "
   ]
  },
  {
   "cell_type": "code",
   "execution_count": 411,
   "metadata": {},
   "outputs": [
    {
     "name": "stdout",
     "output_type": "stream",
     "text": [
      " Notre Matrice:\n"
     ]
    },
    {
     "data": {
      "text/html": [
       "<div>\n",
       "<style scoped>\n",
       "    .dataframe tbody tr th:only-of-type {\n",
       "        vertical-align: middle;\n",
       "    }\n",
       "\n",
       "    .dataframe tbody tr th {\n",
       "        vertical-align: top;\n",
       "    }\n",
       "\n",
       "    .dataframe thead th {\n",
       "        text-align: right;\n",
       "    }\n",
       "</style>\n",
       "<table border=\"1\" class=\"dataframe\">\n",
       "  <thead>\n",
       "    <tr style=\"text-align: right;\">\n",
       "      <th></th>\n",
       "      <th>Couleur</th>\n",
       "      <th>Poids</th>\n",
       "      <th>Forme</th>\n",
       "    </tr>\n",
       "  </thead>\n",
       "  <tbody>\n",
       "    <tr>\n",
       "      <th>0</th>\n",
       "      <td>bleu</td>\n",
       "      <td>lourd</td>\n",
       "      <td>rond</td>\n",
       "    </tr>\n",
       "    <tr>\n",
       "      <th>1</th>\n",
       "      <td>blanc</td>\n",
       "      <td>leger</td>\n",
       "      <td>carre</td>\n",
       "    </tr>\n",
       "    <tr>\n",
       "      <th>2</th>\n",
       "      <td>vert</td>\n",
       "      <td>leger</td>\n",
       "      <td>rond</td>\n",
       "    </tr>\n",
       "    <tr>\n",
       "      <th>3</th>\n",
       "      <td>bleu</td>\n",
       "      <td>tres lourd</td>\n",
       "      <td>carre</td>\n",
       "    </tr>\n",
       "    <tr>\n",
       "      <th>4</th>\n",
       "      <td>blanc</td>\n",
       "      <td>leger</td>\n",
       "      <td>rond</td>\n",
       "    </tr>\n",
       "    <tr>\n",
       "      <th>5</th>\n",
       "      <td>vert</td>\n",
       "      <td>tres lourd</td>\n",
       "      <td>carre</td>\n",
       "    </tr>\n",
       "    <tr>\n",
       "      <th>6</th>\n",
       "      <td>bleu</td>\n",
       "      <td>leger</td>\n",
       "      <td>rond</td>\n",
       "    </tr>\n",
       "    <tr>\n",
       "      <th>7</th>\n",
       "      <td>blanc</td>\n",
       "      <td>tres lourd</td>\n",
       "      <td>carre</td>\n",
       "    </tr>\n",
       "    <tr>\n",
       "      <th>8</th>\n",
       "      <td>vert</td>\n",
       "      <td>tres lourd</td>\n",
       "      <td>rond</td>\n",
       "    </tr>\n",
       "    <tr>\n",
       "      <th>9</th>\n",
       "      <td>bleu</td>\n",
       "      <td>lourd</td>\n",
       "      <td>carre</td>\n",
       "    </tr>\n",
       "  </tbody>\n",
       "</table>\n",
       "</div>"
      ],
      "text/plain": [
       "  Couleur       Poids  Forme\n",
       "0    bleu       lourd   rond\n",
       "1   blanc       leger  carre\n",
       "2    vert       leger   rond\n",
       "3    bleu  tres lourd  carre\n",
       "4   blanc       leger   rond\n",
       "5    vert  tres lourd  carre\n",
       "6    bleu       leger   rond\n",
       "7   blanc  tres lourd  carre\n",
       "8    vert  tres lourd   rond\n",
       "9    bleu       lourd  carre"
      ]
     },
     "metadata": {},
     "output_type": "display_data"
    }
   ],
   "source": [
    "print(\" Notre Matrice:\")\n",
    "exp = np.array([[\"bleu\", \"lourd\", \"rond\"],\n",
    "                [\"blanc\", \"leger\", \"carre\"],\n",
    "                [\"vert\", \"leger\", \"rond\"],\n",
    "                [\"bleu\", \"tres lourd\", \"carre\"],\n",
    "                [\"blanc\", \"leger\", \"rond\"],\n",
    "                [\"vert\", \"tres lourd\", \"carre\"],\n",
    "                [\"bleu\", \"leger\", \"rond\"],\n",
    "                [\"blanc\", \"tres lourd\", \"carre\"],\n",
    "                [\"vert\", \"tres lourd\", \"rond\"],\n",
    "                [\"bleu\", \"lourd\", \"carre\"],\n",
    "                ])\n",
    "columns = [\"Couleur\", \"Poids\", \"Forme\"]\n",
    "df = pd.DataFrame(data=exp, columns=columns)\n",
    "display(df)"
   ]
  },
  {
   "cell_type": "code",
   "execution_count": 412,
   "metadata": {},
   "outputs": [
    {
     "name": "stdout",
     "output_type": "stream",
     "text": [
      " ====> Etape 1: Les Tableaux de contingences:\n",
      "\n",
      "Poids    leger  lourd  tres lourd\n",
      "Couleur                          \n",
      "blanc        2      0           1\n",
      "bleu         1      2           1\n",
      "vert         1      0           2 \n",
      "\n",
      "\n",
      "Forme    carre  rond\n",
      "Couleur             \n",
      "blanc        2     1\n",
      "bleu         2     2\n",
      "vert         1     2 \n",
      "\n",
      "\n",
      "Forme       carre  rond\n",
      "Poids                  \n",
      "leger           1     3\n",
      "lourd           1     1\n",
      "tres lourd      3     1 \n",
      "\n",
      "\n"
     ]
    }
   ],
   "source": [
    "print(\" ====> Etape 1: Les Tableaux de contingences:\\n\")\n",
    "cont = []\n",
    "no_repeat = []\n",
    "for i in columns:\n",
    "    for j in columns:\n",
    "        if i != j:\n",
    "            if [j, i] not in no_repeat:\n",
    "                print(pd.crosstab(index=df[i], columns=df[j]), \"\\n\\n\")\n",
    "                cont.append(pd.crosstab(index=df[i], columns=df[j]))\n",
    "                no_repeat.append([i, j])"
   ]
  },
  {
   "cell_type": "code",
   "execution_count": 413,
   "metadata": {},
   "outputs": [
    {
     "name": "stdout",
     "output_type": "stream",
     "text": [
      " ====> Etape 2: Tableau de frequence fij\n",
      "\n",
      "Poids    leger  lourd  tres lourd  Total\n",
      "Couleur                                 \n",
      "blanc      0.2    0.0         0.1    0.3\n",
      "bleu       0.1    0.2         0.1    0.4\n",
      "vert       0.1    0.0         0.2    0.3\n",
      "Total      0.4    0.2         0.4    1.0 \n",
      "\n",
      "\n",
      "Forme    carre  rond  Total\n",
      "Couleur                    \n",
      "blanc      0.2   0.1    0.3\n",
      "bleu       0.2   0.2    0.4\n",
      "vert       0.1   0.2    0.3\n",
      "Total      0.5   0.5    1.0 \n",
      "\n",
      "\n",
      "Forme       carre  rond  Total\n",
      "Poids                         \n",
      "leger         0.1   0.3    0.4\n",
      "lourd         0.1   0.1    0.2\n",
      "tres lourd    0.3   0.1    0.4\n",
      "Total         0.5   0.5    1.0 \n",
      "\n",
      "\n"
     ]
    }
   ],
   "source": [
    "print(\" ====> Etape 2: Tableau de frequence fij\\n\")\n",
    "freq = []\n",
    "for i in cont:\n",
    "    i = i / df.shape[0]\n",
    "    freq.append(i)\n",
    "for i in freq:\n",
    "    i['Total'] = i.sum(axis=1)\n",
    "    i.loc[\"Total\"] = i.sum()\n",
    "    print(i, \"\\n\\n\")"
   ]
  },
  {
   "cell_type": "code",
   "execution_count": 414,
   "metadata": {},
   "outputs": [
    {
     "name": "stdout",
     "output_type": "stream",
     "text": [
      " ====> Etape 3: Tableau de profils ligne \n",
      "\n",
      "Poids       leger     lourd  tres lourd     Total\n",
      "Couleur                                          \n",
      "blanc    0.666667  0.000000    0.333333  1.000000\n",
      "bleu     0.333333  0.666667    0.333333  1.333333\n",
      "vert     0.333333  0.000000    0.666667  1.000000\n",
      "Total    1.333333  0.666667    1.333333  3.333333 \n",
      "\n",
      "Forme    carre  rond  Total\n",
      "Couleur                    \n",
      "blanc     0.50  0.25   0.75\n",
      "bleu      0.50  0.50   1.00\n",
      "vert      0.25  0.50   0.75\n",
      "Total     1.25  1.25   2.50 \n",
      "\n",
      "Forme       carre  rond  Total\n",
      "Poids                         \n",
      "leger        0.25  0.75    1.0\n",
      "lourd        0.25  0.25    0.5\n",
      "tres lourd   0.75  0.25    1.0\n",
      "Total        1.25  1.25    2.5 \n",
      "\n"
     ]
    }
   ],
   "source": [
    "print(\" ====> Etape 3: Tableau de profils ligne \\n\")\n",
    "fij = []\n",
    "count = 0\n",
    "for i in freq:\n",
    "    if count < i.shape[0]:\n",
    "        i = i / i['Total'][count]\n",
    "        count += 1\n",
    "        fij.append(i)\n",
    "for i in fij:\n",
    "    print(i, \"\\n\")\n"
   ]
  },
  {
   "cell_type": "code",
   "execution_count": 415,
   "metadata": {},
   "outputs": [
    {
     "name": "stdout",
     "output_type": "stream",
     "text": [
      " ====> Etape 4: Tableau de profils colonnes \n",
      "\n",
      "Poids    leger  lourd  tres lourd  Total\n",
      "Couleur                                 \n",
      "blanc     0.50    0.0        0.25   0.75\n",
      "bleu      0.25    0.5        0.25   1.00\n",
      "vert      0.25    0.0        0.50   0.75\n",
      "Total     1.00    0.5        1.00   2.50 \n",
      "\n",
      "Forme    carre  rond  Total\n",
      "Couleur                    \n",
      "blanc      0.4   0.2    0.6\n",
      "bleu       0.4   0.4    0.8\n",
      "vert       0.2   0.4    0.6\n",
      "Total      1.0   1.0    2.0 \n",
      "\n",
      "Forme       carre  rond  Total\n",
      "Poids                         \n",
      "leger         0.1   0.3    0.4\n",
      "lourd         0.1   0.1    0.2\n",
      "tres lourd    0.3   0.1    0.4\n",
      "Total         0.5   0.5    1.0 \n",
      "\n"
     ]
    }
   ],
   "source": [
    "print(\" ====> Etape 4: Tableau de profils colonnes \\n\")\n",
    "fji = []\n",
    "count = 0\n",
    "for i in freq:\n",
    "    if count < i.shape[0]:\n",
    "        i = i / i.loc['Total'][count]\n",
    "        count += 1\n",
    "        fji.append(i)\n",
    "for i in fji:\n",
    "    print(i, \"\\n\")"
   ]
  },
  {
   "cell_type": "code",
   "execution_count": 416,
   "metadata": {},
   "outputs": [
    {
     "name": "stdout",
     "output_type": "stream",
     "text": [
      "La Metrique de i:\n",
      "Pour Tableau 1\n",
      "[[3.33333333 0.         0.        ]\n",
      " [0.         2.5        0.        ]\n",
      " [0.         0.         3.33333333]] \n",
      "\n",
      "Pour Tableau 2\n",
      "[[3.33333333 0.         0.        ]\n",
      " [0.         2.5        0.        ]\n",
      " [0.         0.         3.33333333]] \n",
      "\n",
      "Pour Tableau 3\n",
      "[[2.5 0.  0. ]\n",
      " [0.  5.  0. ]\n",
      " [0.  0.  2.5]] \n",
      "\n"
     ]
    }
   ],
   "source": [
    "print(\"La Metrique de i:\")\n",
    "mi = []\n",
    "for i in freq:\n",
    "    m = np.zeros((len(i[\"Total\"]) - 1, len(i[\"Total\"]) - 1), float)\n",
    "    l = []\n",
    "    for k in range(len(i[\"Total\"]) - 1):\n",
    "        l.append(i['Total'][k])\n",
    "    for i in range(len(l)):\n",
    "        m[i, i] = 1/l[i]\n",
    "    mi.append(m)\n",
    "count = 0\n",
    "for j in mi:\n",
    "    count += 1\n",
    "    print(\"Pour Tableau \" + str(count))\n",
    "    print(j, \"\\n\")\n"
   ]
  },
  {
   "cell_type": "code",
   "execution_count": 417,
   "metadata": {},
   "outputs": [
    {
     "name": "stdout",
     "output_type": "stream",
     "text": [
      "La Metrique de j:\n",
      "Pour Tableau 1\n",
      "[[2.5 0.  0. ]\n",
      " [0.  5.  0. ]\n",
      " [0.  0.  2.5]] \n",
      "\n",
      "Pour Tableau 2\n",
      "[[2. 0.]\n",
      " [0. 2.]] \n",
      "\n",
      "Pour Tableau 3\n",
      "[[2. 0.]\n",
      " [0. 2.]] \n",
      "\n"
     ]
    }
   ],
   "source": [
    "print(\"La Metrique de j:\")\n",
    "mj = []\n",
    "for i in freq:\n",
    "    m = np.zeros((len(i.loc[\"Total\"]) - 1, len(i.loc[\"Total\"]) - 1), float)\n",
    "    l = []\n",
    "    for k in range(len(i.loc[\"Total\"]) - 1):\n",
    "        l.append(i.loc['Total'][k])\n",
    "    for i in range(len(l)):\n",
    "        m[i, i] = 1/l[i]\n",
    "    mj.append(m)\n",
    "count = 0\n",
    "for j in mj:\n",
    "    count += 1\n",
    "    print(\"Pour Tableau \" + str(count))\n",
    "    print(j, \"\\n\")"
   ]
  },
  {
   "cell_type": "code",
   "execution_count": 418,
   "metadata": {},
   "outputs": [
    {
     "name": "stdout",
     "output_type": "stream",
     "text": [
      " ====> Etape 5: Calculer X :\n",
      "\n",
      "Poids    leger  lourd  tres lourd  Total\n",
      "Couleur                                 \n",
      "blanc      0.2    0.0         0.1    0.3\n",
      "bleu       0.1    0.2         0.1    0.4\n",
      "vert       0.1    0.0         0.2    0.3\n",
      "Total      0.4    0.2         0.4    1.0\n"
     ]
    },
    {
     "name": "stderr",
     "output_type": "stream",
     "text": [
      "C:\\Users\\YOGA\\AppData\\Local\\Temp\\ipykernel_10820\\1660410510.py:6: RuntimeWarning: divide by zero encountered in power\n",
      "  x = mi[j]**(-1/2) @ (0.2 - i[\"Total\"].iloc[:-1:].T @ i.loc[\"Total\"].iloc[:-1:].T) @ mj[j]**(-1/2)\n"
     ]
    },
    {
     "ename": "ValueError",
     "evalue": "matrices are not aligned",
     "output_type": "error",
     "traceback": [
      "\u001b[1;31m---------------------------------------------------------------------------\u001b[0m",
      "\u001b[1;31mValueError\u001b[0m                                Traceback (most recent call last)",
      "\u001b[1;32mc:\\Users\\YOGA\\Desktop\\UNI\\M1\\Semestre 2\\Analyse_de_données\\Analyse_de_données_tp\\TP3exo1.ipynb Cell 9\u001b[0m in \u001b[0;36m6\n\u001b[0;32m      <a href='vscode-notebook-cell:/c%3A/Users/YOGA/Desktop/UNI/M1/Semestre%202/Analyse_de_donn%C3%A9es/Analyse_de_donn%C3%A9es_tp/TP3exo1.ipynb#X12sZmlsZQ%3D%3D?line=3'>4</a>\u001b[0m     \u001b[39mprint\u001b[39m(i)\n\u001b[0;32m      <a href='vscode-notebook-cell:/c%3A/Users/YOGA/Desktop/UNI/M1/Semestre%202/Analyse_de_donn%C3%A9es/Analyse_de_donn%C3%A9es_tp/TP3exo1.ipynb#X12sZmlsZQ%3D%3D?line=4'>5</a>\u001b[0m     \u001b[39mfor\u001b[39;00m j \u001b[39min\u001b[39;00m \u001b[39mrange\u001b[39m(\u001b[39mlen\u001b[39m(mi)):\n\u001b[1;32m----> <a href='vscode-notebook-cell:/c%3A/Users/YOGA/Desktop/UNI/M1/Semestre%202/Analyse_de_donn%C3%A9es/Analyse_de_donn%C3%A9es_tp/TP3exo1.ipynb#X12sZmlsZQ%3D%3D?line=5'>6</a>\u001b[0m         x \u001b[39m=\u001b[39m mi[j]\u001b[39m*\u001b[39m\u001b[39m*\u001b[39m(\u001b[39m-\u001b[39m\u001b[39m1\u001b[39m\u001b[39m/\u001b[39m\u001b[39m2\u001b[39m) \u001b[39m@\u001b[39m (\u001b[39m0.2\u001b[39m \u001b[39m-\u001b[39m i[\u001b[39m\"\u001b[39;49m\u001b[39mTotal\u001b[39;49m\u001b[39m\"\u001b[39;49m]\u001b[39m.\u001b[39;49miloc[:\u001b[39m-\u001b[39;49m\u001b[39m1\u001b[39;49m:]\u001b[39m.\u001b[39;49mT \u001b[39m@\u001b[39;49m i\u001b[39m.\u001b[39;49mloc[\u001b[39m\"\u001b[39;49m\u001b[39mTotal\u001b[39;49m\u001b[39m\"\u001b[39;49m]\u001b[39m.\u001b[39;49miloc[:\u001b[39m-\u001b[39;49m\u001b[39m1\u001b[39;49m:]\u001b[39m.\u001b[39;49mT) \u001b[39m@\u001b[39m mj[j]\u001b[39m*\u001b[39m\u001b[39m*\u001b[39m(\u001b[39m-\u001b[39m\u001b[39m1\u001b[39m\u001b[39m/\u001b[39m\u001b[39m2\u001b[39m)\n\u001b[0;32m      <a href='vscode-notebook-cell:/c%3A/Users/YOGA/Desktop/UNI/M1/Semestre%202/Analyse_de_donn%C3%A9es/Analyse_de_donn%C3%A9es_tp/TP3exo1.ipynb#X12sZmlsZQ%3D%3D?line=6'>7</a>\u001b[0m     X\u001b[39m.\u001b[39mappend(x)\n\u001b[0;32m      <a href='vscode-notebook-cell:/c%3A/Users/YOGA/Desktop/UNI/M1/Semestre%202/Analyse_de_donn%C3%A9es/Analyse_de_donn%C3%A9es_tp/TP3exo1.ipynb#X12sZmlsZQ%3D%3D?line=7'>8</a>\u001b[0m \u001b[39mprint\u001b[39m(X)\n",
      "File \u001b[1;32mc:\\Users\\YOGA\\AppData\\Local\\Programs\\Python\\Python311\\Lib\\site-packages\\pandas\\core\\series.py:3035\u001b[0m, in \u001b[0;36mSeries.__matmul__\u001b[1;34m(self, other)\u001b[0m\n\u001b[0;32m   3031\u001b[0m \u001b[39mdef\u001b[39;00m \u001b[39m__matmul__\u001b[39m(\u001b[39mself\u001b[39m, other):\n\u001b[0;32m   3032\u001b[0m     \u001b[39m\"\"\"\u001b[39;00m\n\u001b[0;32m   3033\u001b[0m \u001b[39m    Matrix multiplication using binary `@` operator in Python>=3.5.\u001b[39;00m\n\u001b[0;32m   3034\u001b[0m \u001b[39m    \"\"\"\u001b[39;00m\n\u001b[1;32m-> 3035\u001b[0m     \u001b[39mreturn\u001b[39;00m \u001b[39mself\u001b[39;49m\u001b[39m.\u001b[39;49mdot(other)\n",
      "File \u001b[1;32mc:\\Users\\YOGA\\AppData\\Local\\Programs\\Python\\Python311\\Lib\\site-packages\\pandas\\core\\series.py:3006\u001b[0m, in \u001b[0;36mSeries.dot\u001b[1;34m(self, other)\u001b[0m\n\u001b[0;32m   3004\u001b[0m common \u001b[39m=\u001b[39m \u001b[39mself\u001b[39m\u001b[39m.\u001b[39mindex\u001b[39m.\u001b[39munion(other\u001b[39m.\u001b[39mindex)\n\u001b[0;32m   3005\u001b[0m \u001b[39mif\u001b[39;00m \u001b[39mlen\u001b[39m(common) \u001b[39m>\u001b[39m \u001b[39mlen\u001b[39m(\u001b[39mself\u001b[39m\u001b[39m.\u001b[39mindex) \u001b[39mor\u001b[39;00m \u001b[39mlen\u001b[39m(common) \u001b[39m>\u001b[39m \u001b[39mlen\u001b[39m(other\u001b[39m.\u001b[39mindex):\n\u001b[1;32m-> 3006\u001b[0m     \u001b[39mraise\u001b[39;00m \u001b[39mValueError\u001b[39;00m(\u001b[39m\"\u001b[39m\u001b[39mmatrices are not aligned\u001b[39m\u001b[39m\"\u001b[39m)\n\u001b[0;32m   3008\u001b[0m left \u001b[39m=\u001b[39m \u001b[39mself\u001b[39m\u001b[39m.\u001b[39mreindex(index\u001b[39m=\u001b[39mcommon, copy\u001b[39m=\u001b[39m\u001b[39mFalse\u001b[39;00m)\n\u001b[0;32m   3009\u001b[0m right \u001b[39m=\u001b[39m other\u001b[39m.\u001b[39mreindex(index\u001b[39m=\u001b[39mcommon, copy\u001b[39m=\u001b[39m\u001b[39mFalse\u001b[39;00m)\n",
      "\u001b[1;31mValueError\u001b[0m: matrices are not aligned"
     ]
    }
   ],
   "source": [
    "print(\" ====> Etape 5: Calculer X :\\n\")\n",
    "X = []\n",
    "for i in freq:\n",
    "    for j in range(len(mi)):\n",
    "        x = mi[j]**(-1/2) @ (0.2 - i[\"Total\"].iloc[:-1:].T @ i.loc[\"Total\"].iloc[:-1:].T) @ mj[j]**(-1/2)\n",
    "    X.append(x)\n",
    "print(X)"
   ]
  }
 ],
 "metadata": {
  "kernelspec": {
   "display_name": "Python 3",
   "language": "python",
   "name": "python3"
  },
  "language_info": {
   "codemirror_mode": {
    "name": "ipython",
    "version": 3
   },
   "file_extension": ".py",
   "mimetype": "text/x-python",
   "name": "python",
   "nbconvert_exporter": "python",
   "pygments_lexer": "ipython3",
   "version": "3.11.0"
  },
  "orig_nbformat": 4
 },
 "nbformat": 4,
 "nbformat_minor": 2
}
