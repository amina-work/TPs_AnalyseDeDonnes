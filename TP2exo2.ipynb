{
 "cells": [
  {
   "cell_type": "code",
   "execution_count": 21,
   "metadata": {},
   "outputs": [],
   "source": [
    "#importing stuff\n",
    "import pandas as pd\n",
    "import numpy as np\n",
    "import matplotlib.pyplot as plt\n",
    "import math"
   ]
  },
  {
   "cell_type": "code",
   "execution_count": 22,
   "metadata": {},
   "outputs": [
    {
     "name": "stdout",
     "output_type": "stream",
     "text": [
      "\n",
      " Notre Matrice \n",
      "\n",
      " X=\n"
     ]
    },
    {
     "data": {
      "text/html": [
       "<div>\n",
       "<style scoped>\n",
       "    .dataframe tbody tr th:only-of-type {\n",
       "        vertical-align: middle;\n",
       "    }\n",
       "\n",
       "    .dataframe tbody tr th {\n",
       "        vertical-align: top;\n",
       "    }\n",
       "\n",
       "    .dataframe thead th {\n",
       "        text-align: right;\n",
       "    }\n",
       "</style>\n",
       "<table border=\"1\" class=\"dataframe\">\n",
       "  <thead>\n",
       "    <tr style=\"text-align: right;\">\n",
       "      <th></th>\n",
       "      <th>Poids</th>\n",
       "      <th>Taille</th>\n",
       "    </tr>\n",
       "  </thead>\n",
       "  <tbody>\n",
       "    <tr>\n",
       "      <th>0</th>\n",
       "      <td>20</td>\n",
       "      <td>15</td>\n",
       "    </tr>\n",
       "    <tr>\n",
       "      <th>1</th>\n",
       "      <td>5</td>\n",
       "      <td>2</td>\n",
       "    </tr>\n",
       "    <tr>\n",
       "      <th>2</th>\n",
       "      <td>12</td>\n",
       "      <td>21</td>\n",
       "    </tr>\n",
       "    <tr>\n",
       "      <th>3</th>\n",
       "      <td>21</td>\n",
       "      <td>13</td>\n",
       "    </tr>\n",
       "    <tr>\n",
       "      <th>4</th>\n",
       "      <td>2</td>\n",
       "      <td>7</td>\n",
       "    </tr>\n",
       "    <tr>\n",
       "      <th>5</th>\n",
       "      <td>12</td>\n",
       "      <td>20</td>\n",
       "    </tr>\n",
       "  </tbody>\n",
       "</table>\n",
       "</div>"
      ],
      "text/plain": [
       "   Poids  Taille\n",
       "0     20      15\n",
       "1      5       2\n",
       "2     12      21\n",
       "3     21      13\n",
       "4      2       7\n",
       "5     12      20"
      ]
     },
     "metadata": {},
     "output_type": "display_data"
    }
   ],
   "source": [
    "exp = np.array([[20, 15],\n",
    "                [5, 2],\n",
    "                [12, 21],\n",
    "                [21, 13],\n",
    "                [2, 7],\n",
    "                [12, 20],\n",
    "                ])\n",
    "df = pd.DataFrame(data=exp, columns=[\"Poids\", \"Taille\"])\n",
    "print(\"\\n Notre Matrice \\n\\n X=\")\n",
    "display(df)"
   ]
  },
  {
   "cell_type": "code",
   "execution_count": 23,
   "metadata": {},
   "outputs": [
    {
     "name": "stdout",
     "output_type": "stream",
     "text": [
      "\n",
      " =====> Etape 1: Centrer le tableau \n",
      "\n",
      " X-g =\n"
     ]
    },
    {
     "data": {
      "text/html": [
       "<div>\n",
       "<style scoped>\n",
       "    .dataframe tbody tr th:only-of-type {\n",
       "        vertical-align: middle;\n",
       "    }\n",
       "\n",
       "    .dataframe tbody tr th {\n",
       "        vertical-align: top;\n",
       "    }\n",
       "\n",
       "    .dataframe thead th {\n",
       "        text-align: right;\n",
       "    }\n",
       "</style>\n",
       "<table border=\"1\" class=\"dataframe\">\n",
       "  <thead>\n",
       "    <tr style=\"text-align: right;\">\n",
       "      <th></th>\n",
       "      <th>Poids</th>\n",
       "      <th>Taille</th>\n",
       "    </tr>\n",
       "  </thead>\n",
       "  <tbody>\n",
       "    <tr>\n",
       "      <th>0</th>\n",
       "      <td>8.0</td>\n",
       "      <td>2.0</td>\n",
       "    </tr>\n",
       "    <tr>\n",
       "      <th>1</th>\n",
       "      <td>-7.0</td>\n",
       "      <td>-11.0</td>\n",
       "    </tr>\n",
       "    <tr>\n",
       "      <th>2</th>\n",
       "      <td>0.0</td>\n",
       "      <td>8.0</td>\n",
       "    </tr>\n",
       "    <tr>\n",
       "      <th>3</th>\n",
       "      <td>9.0</td>\n",
       "      <td>0.0</td>\n",
       "    </tr>\n",
       "    <tr>\n",
       "      <th>4</th>\n",
       "      <td>-10.0</td>\n",
       "      <td>-6.0</td>\n",
       "    </tr>\n",
       "    <tr>\n",
       "      <th>5</th>\n",
       "      <td>0.0</td>\n",
       "      <td>7.0</td>\n",
       "    </tr>\n",
       "  </tbody>\n",
       "</table>\n",
       "</div>"
      ],
      "text/plain": [
       "   Poids  Taille\n",
       "0    8.0     2.0\n",
       "1   -7.0   -11.0\n",
       "2    0.0     8.0\n",
       "3    9.0     0.0\n",
       "4  -10.0    -6.0\n",
       "5    0.0     7.0"
      ]
     },
     "metadata": {},
     "output_type": "display_data"
    }
   ],
   "source": [
    "print(\"\\n =====> Etape 1: Centrer le tableau \\n\\n X-g =\")\n",
    "df1 = pd.DataFrame()\n",
    "for i in df:\n",
    "    df1[i] = df[i] - df[i].mean()\n",
    "display(df1)"
   ]
  },
  {
   "cell_type": "code",
   "execution_count": 24,
   "metadata": {},
   "outputs": [
    {
     "name": "stdout",
     "output_type": "stream",
     "text": [
      " =====> Etape 2: Calculer la matrice variance covariance \n",
      "\n",
      " V=\n"
     ]
    },
    {
     "data": {
      "text/html": [
       "<div>\n",
       "<style scoped>\n",
       "    .dataframe tbody tr th:only-of-type {\n",
       "        vertical-align: middle;\n",
       "    }\n",
       "\n",
       "    .dataframe tbody tr th {\n",
       "        vertical-align: top;\n",
       "    }\n",
       "\n",
       "    .dataframe thead th {\n",
       "        text-align: right;\n",
       "    }\n",
       "</style>\n",
       "<table border=\"1\" class=\"dataframe\">\n",
       "  <thead>\n",
       "    <tr style=\"text-align: right;\">\n",
       "      <th></th>\n",
       "      <th>Poids</th>\n",
       "      <th>Taille</th>\n",
       "    </tr>\n",
       "  </thead>\n",
       "  <tbody>\n",
       "    <tr>\n",
       "      <th>Poids</th>\n",
       "      <td>49.0</td>\n",
       "      <td>25.500000</td>\n",
       "    </tr>\n",
       "    <tr>\n",
       "      <th>Taille</th>\n",
       "      <td>25.5</td>\n",
       "      <td>45.666667</td>\n",
       "    </tr>\n",
       "  </tbody>\n",
       "</table>\n",
       "</div>"
      ],
      "text/plain": [
       "        Poids     Taille\n",
       "Poids    49.0  25.500000\n",
       "Taille   25.5  45.666667"
      ]
     },
     "metadata": {},
     "output_type": "display_data"
    }
   ],
   "source": [
    "print(\" =====> Etape 2: Calculer la matrice variance covariance \\n\\n V=\")\n",
    "V = 1 / df1.shape[0] * df1.T @ df1 \n",
    "display(V)"
   ]
  },
  {
   "cell_type": "code",
   "execution_count": 25,
   "metadata": {},
   "outputs": [
    {
     "name": "stdout",
     "output_type": "stream",
     "text": [
      " =====> Etape 3: Détermination de la métrique\n",
      " #### Les données sont heterogenes #### \n",
      "\n",
      " M=\n"
     ]
    },
    {
     "data": {
      "text/html": [
       "<div>\n",
       "<style scoped>\n",
       "    .dataframe tbody tr th:only-of-type {\n",
       "        vertical-align: middle;\n",
       "    }\n",
       "\n",
       "    .dataframe tbody tr th {\n",
       "        vertical-align: top;\n",
       "    }\n",
       "\n",
       "    .dataframe thead th {\n",
       "        text-align: right;\n",
       "    }\n",
       "</style>\n",
       "<table border=\"1\" class=\"dataframe\">\n",
       "  <thead>\n",
       "    <tr style=\"text-align: right;\">\n",
       "      <th></th>\n",
       "      <th>c1</th>\n",
       "      <th>c2</th>\n",
       "    </tr>\n",
       "  </thead>\n",
       "  <tbody>\n",
       "    <tr>\n",
       "      <th>r1</th>\n",
       "      <td>0.020408</td>\n",
       "      <td>0.000000</td>\n",
       "    </tr>\n",
       "    <tr>\n",
       "      <th>r2</th>\n",
       "      <td>0.000000</td>\n",
       "      <td>0.021898</td>\n",
       "    </tr>\n",
       "  </tbody>\n",
       "</table>\n",
       "</div>"
      ],
      "text/plain": [
       "          c1        c2\n",
       "r1  0.020408  0.000000\n",
       "r2  0.000000  0.021898"
      ]
     },
     "metadata": {},
     "output_type": "display_data"
    },
    {
     "name": "stdout",
     "output_type": "stream",
     "text": [
      "\n",
      " V*M=\n",
      "\n"
     ]
    },
    {
     "data": {
      "text/html": [
       "<div>\n",
       "<style scoped>\n",
       "    .dataframe tbody tr th:only-of-type {\n",
       "        vertical-align: middle;\n",
       "    }\n",
       "\n",
       "    .dataframe tbody tr th {\n",
       "        vertical-align: top;\n",
       "    }\n",
       "\n",
       "    .dataframe thead th {\n",
       "        text-align: right;\n",
       "    }\n",
       "</style>\n",
       "<table border=\"1\" class=\"dataframe\">\n",
       "  <thead>\n",
       "    <tr style=\"text-align: right;\">\n",
       "      <th></th>\n",
       "      <th>0</th>\n",
       "      <th>1</th>\n",
       "    </tr>\n",
       "  </thead>\n",
       "  <tbody>\n",
       "    <tr>\n",
       "      <th>0</th>\n",
       "      <td>1.000000</td>\n",
       "      <td>0.558394</td>\n",
       "    </tr>\n",
       "    <tr>\n",
       "      <th>1</th>\n",
       "      <td>0.520408</td>\n",
       "      <td>1.000000</td>\n",
       "    </tr>\n",
       "  </tbody>\n",
       "</table>\n",
       "</div>"
      ],
      "text/plain": [
       "          0         1\n",
       "0  1.000000  0.558394\n",
       "1  0.520408  1.000000"
      ]
     },
     "metadata": {},
     "output_type": "display_data"
    }
   ],
   "source": [
    "print(\" =====> Etape 3: Détermination de la métrique\")\n",
    "print(\" #### Les données sont heterogenes #### \\n\\n M=\")\n",
    "m = np.zeros((df.shape[1], df.shape[1]), float)\n",
    "j = \"Poids\"\n",
    "for i in range(df.shape[1]):\n",
    "    m[i][i] = 1 / V[j][j]\n",
    "    j = \"Taille\"\n",
    "M = pd.DataFrame(data=m, index=[\"r1\", \"r2\"], columns=[\"c1\", \"c2\"])\n",
    "display(M)\n",
    "print(\"\\n V*M=\\n\")\n",
    "VM = pd.DataFrame(data=np.dot(V, M))\n",
    "display(VM)"
   ]
  },
  {
   "cell_type": "code",
   "execution_count": 26,
   "metadata": {},
   "outputs": [
    {
     "name": "stdout",
     "output_type": "stream",
     "text": [
      " =====> Etape 4: Recherche des axes principaux 𝑼𝒌 de la matrice (VM)\n",
      " #### Calculer les valeurs propres de la matrice (V.M) :\n",
      "λ1 = 0.4609333255639322\n",
      "λ2 = 1.5390666744360677\n",
      " #### Trier les valeurs propres par ordre décroissant :\n",
      "λ1 = 1.5390666744360677\n",
      "λ2 = 0.4609333255639322\n"
     ]
    }
   ],
   "source": [
    "print(\" =====> Etape 4: Recherche des axes principaux 𝑼𝒌 de la matrice (VM)\")\n",
    "print(\" #### Calculer les valeurs propres de la matrice (V.M) :\")\n",
    "valeurs, vecteurs = np.linalg.eig(VM)\n",
    "count = 0\n",
    "for i in valeurs[::-1]:\n",
    "    count += 1\n",
    "    print(\"λ\"+str(count)+\" =\", i)\n",
    "print(\" #### Trier les valeurs propres par ordre décroissant :\")\n",
    "sorted_valeurs = np.sort(valeurs)[::-1]\n",
    "list_valeurs = sorted_valeurs.tolist()\n",
    "count = 0\n",
    "for i in list_valeurs:\n",
    "    count += 1\n",
    "    print(\"λ\"+str(count)+\" =\", i)"
   ]
  },
  {
   "cell_type": "code",
   "execution_count": 27,
   "metadata": {},
   "outputs": [
    {
     "name": "stdout",
     "output_type": "stream",
     "text": [
      " =====> Calculer la qualité de représentation :\n",
      "Q = 1.0\n",
      " #### Les valeurs principaux sont:\n",
      "λ1 = 1.5390666744360677\n",
      "λ2 = 0.4609333255639322\n"
     ]
    }
   ],
   "source": [
    "print(\" =====> Calculer la qualité de représentation :\")\n",
    "q = 0\n",
    "ls = 0\n",
    "list_valeurs_principaux = []\n",
    "for i in list_valeurs:\n",
    "    if q < 0.8:\n",
    "        ls += i\n",
    "        list_valeurs_principaux.append(i)\n",
    "        q = ls / sum(list_valeurs)\n",
    "print(\"Q =\",q)\n",
    "count = 0\n",
    "print(\" #### Les valeurs principaux sont:\")\n",
    "for i in list_valeurs_principaux:\n",
    "    count += 1\n",
    "    print(\"λ\"+str(count)+\" =\", i)"
   ]
  },
  {
   "cell_type": "code",
   "execution_count": 28,
   "metadata": {},
   "outputs": [
    {
     "name": "stdout",
     "output_type": "stream",
     "text": [
      " =====> Etape 6: Calculer les vecteurs propres 𝑼𝒌 :\n",
      "U1 = [ 0.71944815 -0.71944815]\n",
      "U2 = [0.69454616 0.69454616]\n"
     ]
    }
   ],
   "source": [
    "print(\" =====> Etape 6: Calculer les vecteurs propres 𝑼𝒌 :\")\n",
    "list_vecteurs_principaux = []\n",
    "for i in range(len(list_valeurs_principaux)):\n",
    "    list_vecteurs_principaux.append(vecteurs[i])\n",
    "count = 0\n",
    "for i in list_vecteurs_principaux:\n",
    "    count+= 1\n",
    "    print(\"U\"+str(count)+\" =\", i)\n",
    "list_vecteurs_principaux = list_vecteurs_principaux[::-1]"
   ]
  },
  {
   "cell_type": "code",
   "execution_count": 40,
   "metadata": {},
   "outputs": [
    {
     "name": "stdout",
     "output_type": "stream",
     "text": [
      " =====> Etape 7: Calculer les composantes principales :\n",
      "[array([0.69454616, 0.69454616]), array([ 0.71944815, -0.71944815])]\n",
      " #### Le nouveau espace: \n",
      "\n",
      " C =\n"
     ]
    },
    {
     "data": {
      "text/html": [
       "<div>\n",
       "<style scoped>\n",
       "    .dataframe tbody tr th:only-of-type {\n",
       "        vertical-align: middle;\n",
       "    }\n",
       "\n",
       "    .dataframe tbody tr th {\n",
       "        vertical-align: top;\n",
       "    }\n",
       "\n",
       "    .dataframe thead th {\n",
       "        text-align: right;\n",
       "    }\n",
       "</style>\n",
       "<table border=\"1\" class=\"dataframe\">\n",
       "  <thead>\n",
       "    <tr style=\"text-align: right;\">\n",
       "      <th></th>\n",
       "      <th>U1</th>\n",
       "      <th>U2</th>\n",
       "    </tr>\n",
       "  </thead>\n",
       "  <tbody>\n",
       "    <tr>\n",
       "      <th>0</th>\n",
       "      <td>0.143813</td>\n",
       "      <td>0.085952</td>\n",
       "    </tr>\n",
       "    <tr>\n",
       "      <th>1</th>\n",
       "      <td>-0.266520</td>\n",
       "      <td>0.070519</td>\n",
       "    </tr>\n",
       "    <tr>\n",
       "      <th>2</th>\n",
       "      <td>0.121672</td>\n",
       "      <td>-0.126035</td>\n",
       "    </tr>\n",
       "    <tr>\n",
       "      <th>3</th>\n",
       "      <td>0.127570</td>\n",
       "      <td>0.132144</td>\n",
       "    </tr>\n",
       "    <tr>\n",
       "      <th>4</th>\n",
       "      <td>-0.232998</td>\n",
       "      <td>-0.052300</td>\n",
       "    </tr>\n",
       "    <tr>\n",
       "      <th>5</th>\n",
       "      <td>0.106463</td>\n",
       "      <td>-0.110280</td>\n",
       "    </tr>\n",
       "  </tbody>\n",
       "</table>\n",
       "</div>"
      ],
      "text/plain": [
       "         U1        U2\n",
       "0  0.143813  0.085952\n",
       "1 -0.266520  0.070519\n",
       "2  0.121672 -0.126035\n",
       "3  0.127570  0.132144\n",
       "4 -0.232998 -0.052300\n",
       "5  0.106463 -0.110280"
      ]
     },
     "metadata": {},
     "output_type": "display_data"
    }
   ],
   "source": [
    "print(\" =====> Etape 7: Calculer les composantes principales :\")\n",
    "list_composantes_principales =  []\n",
    "print(list_vecteurs_principaux)\n",
    "for i in range(len(list_vecteurs_principaux)):\n",
    "    list_composantes_principales.append( df1.values.dot(np.dot(m,list_vecteurs_principaux[i])) )\n",
    "C = pd.DataFrame()\n",
    "count = 0\n",
    "for i in list_composantes_principales:\n",
    "    count += 1\n",
    "    C[\"U\"+str(count)] = i\n",
    "print(\" #### Le nouveau espace: \\n\\n C =\")\n",
    "display(C)"
   ]
  },
  {
   "cell_type": "code",
   "execution_count": 30,
   "metadata": {},
   "outputs": [
    {
     "name": "stdout",
     "output_type": "stream",
     "text": [
      " =====> Etape 8: Représenter graphiquement\n"
     ]
    },
    {
     "data": {
      "image/png": "[encoded data removed]",
      "text/plain": [
       "<Figure size 640x480 with 1 Axes>"
      ]
     },
     "metadata": {},
     "output_type": "display_data"
    }
   ],
   "source": [
    "print(\" =====> Etape 8: Représenter graphiquement\")\n",
    "# Draw the black lines\n",
    "plt.plot([-0.5, 0.5], [0, 0], 'k-', lw=1)\n",
    "plt.plot([0, 0], [-0.5, 0.5], 'k-', lw=1)\n",
    "\n",
    "plt.scatter(C[\"U1\"], C[\"U2\"])\n",
    "n = []\n",
    "for i in range(len(C.index)):\n",
    "    n.append(\"I\"+str(i+1))\n",
    "for i, txt in enumerate(n):\n",
    "    plt.annotate(txt, (C[\"U1\"][i], C[\"U2\"][i]))\n"
   ]
  },
  {
   "cell_type": "code",
   "execution_count": 31,
   "metadata": {},
   "outputs": [
    {
     "name": "stdout",
     "output_type": "stream",
     "text": [
      " =====> Etape 9: Les contributions aux inerties : \n",
      "\n",
      " #### Part d’inertie de 𝑋𝑖 prise en compte par l’axe 𝑈𝑘 \n",
      "\n",
      "\n",
      "Par rapport à l'axe U1\n",
      "\n",
      "cos²(O01) = 0.010647592001986245\n",
      "cos²(O01) = 0.005332879563092843\n",
      "cos²(O01) = 0.007537411971830984\n",
      "cos²(O01) = 0.005955486002434361\n",
      "cos²(O01) = 0.006782621719283522\n",
      "cos²(O01) = 0.009844782983615978\n",
      "\n",
      "Par rapport à l'axe U2\n",
      "\n",
      "cos²(O02) = 0.003803358864125745\n",
      "cos²(O02) = 0.00037335211267605655\n",
      "cos²(O02) = 0.008087588028169017\n",
      "cos²(O02) = 0.006390193009911318\n",
      "cos²(O02) = 0.0003417411176861021\n",
      "cos²(O02) = 0.01056338028169014\n"
     ]
    }
   ],
   "source": [
    "print(\" =====> Etape 9: Les contributions aux inerties : \\n\")\n",
    "print(\" #### Part d’inertie de 𝑋𝑖 prise en compte par l’axe 𝑈𝑘 \\n\")\n",
    "count = 0\n",
    "l = []\n",
    "for i in range(len(list_vecteurs_principaux)):\n",
    "    print(\"\\nPar rapport à l'axe U\"+str(i+1)+\"\\n\")\n",
    "    count += 1\n",
    "    individu = 0\n",
    "    for index, row in df1.iterrows():\n",
    "        X = np.array([row[0], row[1]])\n",
    "        xm = np.dot(M, X)\n",
    "        cos = np.dot(xm, list_vecteurs_principaux[i])**2 / np.dot(xm, X)**2\n",
    "        l.append(cos)\n",
    "        print(\"cos²(O\"+str(individu)+str(count)+\") =\", cos)"
   ]
  },
  {
   "cell_type": "code",
   "execution_count": 32,
   "metadata": {},
   "outputs": [
    {
     "name": "stdout",
     "output_type": "stream",
     "text": [
      " Représente la contribution de l’individu par rapport au nouvel espace \n",
      "\n",
      "\n",
      "p1 = 0.01445095086611199\n",
      "p2 = 0.005706231675768899\n",
      "p3 = 0.015625\n",
      "p4 = 0.012345679012345678\n",
      "p5 = 0.007124362836969623\n",
      "p6 = 0.020408163265306117\n"
     ]
    }
   ],
   "source": [
    "print(\" Représente la contribution de l’individu par rapport au nouvel espace \\n\\n\")\n",
    "half = len(l) // 2\n",
    "cos1 = l[:half]\n",
    "cos2 = l[half:]\n",
    "count = 0\n",
    "for i in range(len(cos1)):\n",
    "    count += 1\n",
    "    print(\"p\"+str(count) + \" =\", cos1[i] + cos2[i])"
   ]
  },
  {
   "cell_type": "code",
   "execution_count": 33,
   "metadata": {},
   "outputs": [
    {
     "name": "stdout",
     "output_type": "stream",
     "text": [
      "#### Contribution relative de l’individu 𝑋𝑖 à l’inertie expliquée de l’axe 𝑈𝑘:\n",
      "\n",
      "Par rapport à l'axe U1\n",
      "\n",
      "p11 = 0.002239699991775932\n",
      "p21 = 0.007692224756807065\n",
      "p31 = 0.0016031527021511882\n",
      "p41 = 0.001762326619117562\n",
      "p51 = 0.005878912823917813\n",
      "p61 = 0.0012274137875845036\n",
      "\n",
      "Par rapport à l'axe U2\n",
      "\n",
      "p11 = 0.002671314845472961\n",
      "p21 = 0.0017981591544134617\n",
      "p31 = 0.005743689902010584\n",
      "p41 = 0.006313969712733817\n",
      "p51 = 0.0009890448482290405\n",
      "p61 = 0.004397512581226853\n"
     ]
    }
   ],
   "source": [
    "print('#### Contribution relative de l’individu 𝑋𝑖 à l’inertie expliquée de l’axe 𝑈𝑘:')\n",
    "count = 0\n",
    "for i in range(len(list_vecteurs_principaux)):\n",
    "    print(\"\\nPar rapport à l'axe U\"+str(i+1)+\"\\n\")\n",
    "    count = 1\n",
    "    individu = 0\n",
    "    for index, row in df1.iterrows():\n",
    "        X = np.array([row[0], row[1]])\n",
    "        xm = np.dot(M, X)\n",
    "        pik =(1/len(df1.index) * (np.dot(xm, list_vecteurs_principaux[i]))**2) / list_valeurs_principaux[i]\n",
    "        individu += 1\n",
    "        print(\"p\"+str(individu)+str(count)+\" =\", pik)"
   ]
  },
  {
   "cell_type": "code",
   "execution_count": 34,
   "metadata": {},
   "outputs": [
    {
     "name": "stdout",
     "output_type": "stream",
     "text": [
      " =====> Etape 10: Représentation des variables à l’aide du coefficient de corrélation:\n"
     ]
    },
    {
     "data": {
      "text/html": [
       "<div>\n",
       "<style scoped>\n",
       "    .dataframe tbody tr th:only-of-type {\n",
       "        vertical-align: middle;\n",
       "    }\n",
       "\n",
       "    .dataframe tbody tr th {\n",
       "        vertical-align: top;\n",
       "    }\n",
       "\n",
       "    .dataframe thead th {\n",
       "        text-align: right;\n",
       "    }\n",
       "</style>\n",
       "<table border=\"1\" class=\"dataframe\">\n",
       "  <thead>\n",
       "    <tr style=\"text-align: right;\">\n",
       "      <th></th>\n",
       "      <th>U1</th>\n",
       "      <th>U2</th>\n",
       "    </tr>\n",
       "  </thead>\n",
       "  <tbody>\n",
       "    <tr>\n",
       "      <th>N1</th>\n",
       "      <td>0.124638</td>\n",
       "      <td>0.066852</td>\n",
       "    </tr>\n",
       "    <tr>\n",
       "      <th>N2</th>\n",
       "      <td>0.125960</td>\n",
       "      <td>-0.075206</td>\n",
       "    </tr>\n",
       "  </tbody>\n",
       "</table>\n",
       "</div>"
      ],
      "text/plain": [
       "          U1        U2\n",
       "N1  0.124638  0.066852\n",
       "N2  0.125960 -0.075206"
      ]
     },
     "metadata": {},
     "output_type": "display_data"
    }
   ],
   "source": [
    "print(\" =====> Etape 10: Représentation des variables à l’aide du coefficient de corrélation:\")\n",
    "cor1 = 1 / df1.shape[0] * (df1['Poids'] @ C['U1']) / (math.sqrt(V[\"Poids\"][\"Poids\"]) * math.sqrt(list_valeurs_principaux[0]))\n",
    "cor2 = 1 / df1.shape[0] * (df1['Poids'] @ C['U2']) / (math.sqrt(V[\"Poids\"][\"Poids\"]) * math.sqrt(list_valeurs_principaux[1]))\n",
    "\n",
    "cor3 = 1 / df1.shape[0] * (df1['Taille'] @ C['U1']) / (math.sqrt(V[\"Taille\"][\"Taille\"]) * math.sqrt(list_valeurs_principaux[0]))\n",
    "cor4 = 1 / df1.shape[0] * (df1['Taille'] @ C['U2']) / (math.sqrt(V[\"Taille\"][\"Taille\"]) * math.sqrt(list_valeurs_principaux[1]))\n",
    "\n",
    "\n",
    "corr = pd.DataFrame({\"U1\": [cor1, cor3], \"U2\": [cor2, cor4]}, index=[\"N1\", 'N2'])\n",
    "display(corr)"
   ]
  },
  {
   "cell_type": "code",
   "execution_count": 39,
   "metadata": {},
   "outputs": [
    {
     "data": {
      "image/png": "[encoded data removed]",
      "text/plain": [
       "<Figure size 640x480 with 1 Axes>"
      ]
     },
     "metadata": {},
     "output_type": "display_data"
    }
   ],
   "source": [
    "# the correlation coefficients represantation for each variable\n",
    "x = [-0.5, 0.5, 0, 0]\n",
    "y = [0, 0, -0.5, 0.5]\n",
    "\n",
    "fig, ax = plt.subplots()\n",
    "plt.scatter(x, y)\n",
    "\n",
    "# draw a circle around the points\n",
    "circle = plt.Circle((0, 0), radius=0.5, facecolor='none', edgecolor='green')\n",
    "ax.add_artist(circle)\n",
    "\n",
    "ax.plot([-0.5, 0.5], [0, 0], 'k-', lw=1)\n",
    "ax.plot([0, 0], [-0.5, 0.5], 'k-', lw=1)\n",
    "\n",
    "\n",
    "ax.scatter([cor1, cor3], [cor2, cor4], c='r', s=10)\n",
    "\n",
    "plt.show()"
   ]
  }
 ],
 "metadata": {
  "kernelspec": {
   "display_name": "Python 3",
   "language": "python",
   "name": "python3"
  },
  "language_info": {
   "codemirror_mode": {
    "name": "ipython",
    "version": 3
   },
   "file_extension": ".py",
   "mimetype": "text/x-python",
   "name": "python",
   "nbconvert_exporter": "python",
   "pygments_lexer": "ipython3",
   "version": "3.11.3"
  },
  "orig_nbformat": 4
 },
 "nbformat": 4,
 "nbformat_minor": 2
}
