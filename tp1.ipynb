{
 "cells": [
  {
   "cell_type": "code",
   "execution_count": 8,
   "metadata": {},
   "outputs": [
    {
     "name": "stdout",
     "output_type": "stream",
     "text": [
      "(7, 2)\n",
      "[{'oui'} {'oui'}]\n"
     ]
    }
   ],
   "source": [
    "import numpy as np\n",
    "\n",
    "a = np.array([[{\"oui\"}, {'oui'}], \n",
    "              [{\"oui\"}, {'non'}], \n",
    "              [{\"non\"}, {'oui'}], \n",
    "              [{\"non\"}, {'non'}],\n",
    "              [{\"oui\"}, {'oui'}], \n",
    "              [{\"oui\"}, {'non'}], \n",
    "              [{\"oui\"}, {'oui'}]\n",
    "              ])\n",
    "print(np.shape(a))"
   ]
  }
 ],
 "metadata": {
  "kernelspec": {
   "display_name": "Python 3",
   "language": "python",
   "name": "python3"
  },
  "language_info": {
   "codemirror_mode": {
    "name": "ipython",
    "version": 3
   },
   "file_extension": ".py",
   "mimetype": "text/x-python",
   "name": "python",
   "nbconvert_exporter": "python",
   "pygments_lexer": "ipython3",
   "version": "3.11.0"
  },
  "orig_nbformat": 4,
  "vscode": {
   "interpreter": {
    "hash": "eb15da00ddf7abc474b86d37ac6c5c9c8600f29cd0032e6e2de527fbe08602fc"
   }
  }
 },
 "nbformat": 4,
 "nbformat_minor": 2
}
