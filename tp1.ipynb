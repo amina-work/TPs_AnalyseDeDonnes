{
 "cells": [
  {
   "cell_type": "code",
   "execution_count": 81,
   "metadata": {},
   "outputs": [
    {
     "name": "stdout",
     "output_type": "stream",
     "text": [
      "(7, 2)\n",
      "[['oui' 'oui']\n",
      " ['oui' 'non']\n",
      " ['non' 'oui']\n",
      " ['non' 'non']\n",
      " ['oui' 'oui']\n",
      " ['oui' 'non']\n",
      " ['oui' 'oui']]\n"
     ]
    }
   ],
   "source": [
    "import numpy as np\n",
    "import pandas as pd\n",
    "\n",
    "a = np.array([[\"oui\", 'oui'], \n",
    "              [\"oui\", 'non'], \n",
    "              [\"non\", 'oui'], \n",
    "              [\"non\", 'non'],\n",
    "              [\"oui\", 'oui'], \n",
    "              [\"oui\", 'non'], \n",
    "              [\"oui\", 'oui']\n",
    "              ])\n",
    "print(np.shape(a))\n",
    "print(a)"
   ]
  },
  {
   "cell_type": "code",
   "execution_count": 82,
   "metadata": {},
   "outputs": [
    {
     "name": "stdout",
     "output_type": "stream",
     "text": [
      "    q1   q2\n",
      "0  oui  oui\n",
      "1  oui  non\n",
      "2  non  oui\n",
      "3  non  non\n",
      "4  oui  oui\n",
      "5  oui  non\n",
      "6  oui  oui\n"
     ]
    }
   ],
   "source": [
    "df = pd.DataFrame(data=a)\n",
    "df = df.rename(columns={0: \"q1\", 1:\"q2\"})\n",
    "print(df)"
   ]
  },
  {
   "cell_type": "code",
   "execution_count": 83,
   "metadata": {},
   "outputs": [
    {
     "name": "stdout",
     "output_type": "stream",
     "text": [
      "[[1. 0.]\n",
      " [0. 1.]]\n",
      "<class 'numpy.ndarray'>\n",
      "oui\n",
      "[1. 0.]\n",
      "non\n",
      "[0. 1.]\n",
      "        q1       q2\n",
      "0  [1. 0.]  [1. 0.]\n",
      "1  [1. 0.]  [0. 1.]\n",
      "2  [0. 1.]  [1. 0.]\n",
      "3  [0. 1.]  [0. 1.]\n",
      "4  [1. 0.]  [1. 0.]\n",
      "5  [1. 0.]  [0. 1.]\n",
      "6  [1. 0.]  [1. 0.]\n"
     ]
    }
   ],
   "source": [
    "un = df[\"q1\"].unique()\n",
    "code = np.eye(np.size(un))\n",
    "\n",
    "print(code)\n",
    "print(type(code[0]))\n",
    "for i in range(len(un)):\n",
    "    print(un[i])\n",
    "    print(code[i])\n",
    "    df = df.replace(un[i], str(code[i]))\n",
    "print(df)"
   ]
  },
  {
   "cell_type": "code",
   "execution_count": 86,
   "metadata": {},
   "outputs": [
    {
     "name": "stdout",
     "output_type": "stream",
     "text": [
      "0    [1. 0.]\n",
      "1    [1. 0.]\n",
      "2    [0. 1.]\n",
      "3    [0. 1.]\n",
      "4    [1. 0.]\n",
      "5    [1. 0.]\n",
      "6    [1. 0.]\n",
      "Name: q1, dtype: object\n"
     ]
    }
   ],
   "source": [
    "print(df[\"q1\"])"
   ]
  }
 ],
 "metadata": {
  "kernelspec": {
   "display_name": "Python 3",
   "language": "python",
   "name": "python3"
  },
  "language_info": {
   "codemirror_mode": {
    "name": "ipython",
    "version": 3
   },
   "file_extension": ".py",
   "mimetype": "text/x-python",
   "name": "python",
   "nbconvert_exporter": "python",
   "pygments_lexer": "ipython3",
   "version": "3.11.0"
  },
  "orig_nbformat": 4,
  "vscode": {
   "interpreter": {
    "hash": "eb15da00ddf7abc474b86d37ac6c5c9c8600f29cd0032e6e2de527fbe08602fc"
   }
  }
 },
 "nbformat": 4,
 "nbformat_minor": 2
}
