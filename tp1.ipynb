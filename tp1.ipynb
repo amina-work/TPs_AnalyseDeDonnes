{
 "cells": [
  {
   "cell_type": "code",
   "execution_count": 101,
   "metadata": {},
   "outputs": [
    {
     "name": "stdout",
     "output_type": "stream",
     "text": [
      "(3,)\n"
     ]
    }
   ],
   "source": [
    "import numpy as np\n",
    "\n",
    "a = np.array([1., 2., 3.])\n",
    "#see the size\n",
    "print(np.shape(a))"
   ]
  },
  {
   "cell_type": "code",
   "execution_count": 102,
   "metadata": {},
   "outputs": [
    {
     "name": "stdout",
     "output_type": "stream",
     "text": [
      "[1. 2. 3.]\n"
     ]
    }
   ],
   "source": [
    "#change to column\n",
    "#a.shape=(3, 1)\n",
    "print(a)"
   ]
  },
  {
   "cell_type": "code",
   "execution_count": 103,
   "metadata": {},
   "outputs": [
    {
     "name": "stdout",
     "output_type": "stream",
     "text": [
      "1.0\n",
      "3.0\n",
      "2.0\n"
     ]
    }
   ],
   "source": [
    "#print first element\n",
    "print(a[0])\n",
    "#print last element\n",
    "print(a[-1])\n",
    "#print before last element\n",
    "print(a[-2])"
   ]
  },
  {
   "cell_type": "code",
   "execution_count": 104,
   "metadata": {},
   "outputs": [
    {
     "name": "stdout",
     "output_type": "stream",
     "text": [
      "[2. 3.]\n"
     ]
    }
   ],
   "source": [
    "print(a[1:])"
   ]
  },
  {
   "cell_type": "code",
   "execution_count": 105,
   "metadata": {},
   "outputs": [
    {
     "name": "stdout",
     "output_type": "stream",
     "text": [
      "[3. 2. 1.]\n"
     ]
    }
   ],
   "source": [
    "#print the inverse\n",
    "print(a[::-1])"
   ]
  },
  {
   "cell_type": "code",
   "execution_count": 106,
   "metadata": {},
   "outputs": [
    {
     "name": "stdout",
     "output_type": "stream",
     "text": [
      "[False  True  True]\n"
     ]
    }
   ],
   "source": [
    "#see if elements of matrice are superier\n",
    "print(a>1)"
   ]
  },
  {
   "cell_type": "code",
   "execution_count": 107,
   "metadata": {},
   "outputs": [
    {
     "name": "stdout",
     "output_type": "stream",
     "text": [
      "[ 2.  6. 15.]\n",
      "[3. 5. 8.]\n",
      "23.0\n",
      "[1. 4. 9.]\n"
     ]
    }
   ],
   "source": [
    "b = np.array([2.,3.,5.])\n",
    "print(a*b) #produit element par element\n",
    "print(a+b) #addition element par element\n",
    "print(a@b) #a.t * b\n",
    "print(a**2) #la puissance de tout les vecteurs"
   ]
  },
  {
   "cell_type": "code",
   "execution_count": 108,
   "metadata": {},
   "outputs": [
    {
     "name": "stdout",
     "output_type": "stream",
     "text": [
      "[1. 2. 3. 2. 3. 5.]\n"
     ]
    }
   ],
   "source": [
    "c = np.concatenate((a, b), axis=0)\n",
    "print(c)\n",
    "#d = np.concatenate((a, b), axis=1)\n",
    "#print(d)"
   ]
  },
  {
   "cell_type": "code",
   "execution_count": 109,
   "metadata": {},
   "outputs": [
    {
     "name": "stdout",
     "output_type": "stream",
     "text": [
      "1.25\n"
     ]
    }
   ],
   "source": [
    "x = np.array([1, 2, 3, 4])\n",
    "print(np.var(x)) #la variance"
   ]
  },
  {
   "cell_type": "code",
   "execution_count": 116,
   "metadata": {},
   "outputs": [
    {
     "name": "stdout",
     "output_type": "stream",
     "text": [
      "[1.25]\n"
     ]
    }
   ],
   "source": [
    "print(np.sum((x - np.average(x)) ** 2)/np.shape(x)) #la variance"
   ]
  },
  {
   "cell_type": "code",
   "execution_count": 123,
   "metadata": {},
   "outputs": [
    {
     "ename": "ValueError",
     "evalue": "matmul: Input operand 1 has a mismatch in its core dimension 0, with gufunc signature (n?,k),(k,m?)->(n?,m?) (size 4 is different from 3)",
     "output_type": "error",
     "traceback": [
      "\u001b[1;31m---------------------------------------------------------------------------\u001b[0m",
      "\u001b[1;31mValueError\u001b[0m                                Traceback (most recent call last)",
      "Cell \u001b[1;32mIn [123], line 7\u001b[0m\n\u001b[0;32m      1\u001b[0m \u001b[39m#x = np.array[1,2,3,4]\u001b[39;00m\n\u001b[0;32m      2\u001b[0m \u001b[39m#x-x'(moy)= A\u001b[39;00m\n\u001b[0;32m      3\u001b[0m \u001b[39m#<A,A> = A.T.A\u001b[39;00m\n\u001b[0;32m      5\u001b[0m k \u001b[39m=\u001b[39m np\u001b[39m.\u001b[39msubtract(x, np\u001b[39m.\u001b[39maverage(x))\n\u001b[1;32m----> 7\u001b[0m \u001b[39mprint\u001b[39m(a\u001b[39m@k\u001b[39;49m)\n",
      "\u001b[1;31mValueError\u001b[0m: matmul: Input operand 1 has a mismatch in its core dimension 0, with gufunc signature (n?,k),(k,m?)->(n?,m?) (size 4 is different from 3)"
     ]
    }
   ],
   "source": [
    "#x = np.array[1,2,3,4]\n",
    "#x-x'(moy)= A\n",
    "#<A,A> = A.T.A\n",
    "\n",
    "k = np.subtract(x, np.average(x))\n",
    "produit =(k.shape(4,1)*k)/np.shape(x)\n",
    "print(produit)\n",
    "print(a@k)"
   ]
  },
  {
   "cell_type": "code",
   "execution_count": 131,
   "metadata": {},
   "outputs": [
    {
     "name": "stdout",
     "output_type": "stream",
     "text": [
      "[ 1  2  3  4  5  6  7  8  9 10]\n",
      "[5 4 9 7 6 7 1 5 2 3]\n"
     ]
    }
   ],
   "source": [
    "y = np.arange(1,11)\n",
    "print(y)\n",
    "z = np.random.randint(1,11, size=10)\n",
    "print(z)\n",
    "v = np.random.randn()"
   ]
  }
 ],
 "metadata": {
  "kernelspec": {
   "display_name": "Python 3",
   "language": "python",
   "name": "python3"
  },
  "language_info": {
   "codemirror_mode": {
    "name": "ipython",
    "version": 3
   },
   "file_extension": ".py",
   "mimetype": "text/x-python",
   "name": "python",
   "nbconvert_exporter": "python",
   "pygments_lexer": "ipython3",
   "version": "3.11.0"
  },
  "orig_nbformat": 4,
  "vscode": {
   "interpreter": {
    "hash": "eb15da00ddf7abc474b86d37ac6c5c9c8600f29cd0032e6e2de527fbe08602fc"
   }
  }
 },
 "nbformat": 4,
 "nbformat_minor": 2
}
