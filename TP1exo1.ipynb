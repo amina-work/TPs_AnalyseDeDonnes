{
 "cells": [
  {
   "cell_type": "code",
   "execution_count": 54,
   "metadata": {},
   "outputs": [
    {
     "name": "stdout",
     "output_type": "stream",
     "text": [
      "\n",
      "Notre tableau de données:\n",
      "\n",
      "     0    1\n",
      "0  oui  oui\n",
      "1  oui  non\n",
      "2  non  oui\n",
      "3  non  non\n",
      "4  oui  oui\n",
      "5  oui  non\n",
      "6  non  oui\n"
     ]
    }
   ],
   "source": [
    "#Tp N°1\n",
    "#exo1\n",
    "\n",
    "import numpy as np\n",
    "import pandas as pd\n",
    "exp = np.array([[\"oui\", 'oui'], \n",
    "              [\"oui\", 'non'], \n",
    "              [\"non\", 'oui'], \n",
    "              [\"non\", 'non'],\n",
    "              [\"oui\", 'oui'], \n",
    "              [\"oui\", 'non'], \n",
    "              [\"non\", 'oui']\n",
    "              ])\n",
    "print(\"\\nNotre tableau de données:\\n\")\n",
    "exp_df = pd.DataFrame(data=exp)\n",
    "print(exp_df)\n",
    "#print(exp[:,1])"
   ]
  },
  {
   "cell_type": "code",
   "execution_count": 55,
   "metadata": {},
   "outputs": [
    {
     "name": "stdout",
     "output_type": "stream",
     "text": [
      "\n",
      "\n",
      "Tableau de codage disjonctif complet:\n",
      "\n",
      "     0    1    2    3\n",
      "0  0.0  1.0  0.0  1.0\n",
      "1  0.0  1.0  1.0  0.0\n",
      "2  1.0  0.0  0.0  1.0\n",
      "3  1.0  0.0  1.0  0.0\n",
      "4  0.0  1.0  0.0  1.0\n",
      "5  0.0  1.0  1.0  0.0\n",
      "6  1.0  0.0  0.0  1.0\n"
     ]
    }
   ],
   "source": [
    "#Q1: Déterminer le tableau de codage disjoonctif complet\n",
    "#Déterminer le nombre de valeurs uniques dans chaque colonne\n",
    "#Et créer le montant approprié de {0,1}\n",
    "new = np.array([])\n",
    "for j in range(exp.shape[1]):  #iterer les columns\n",
    "    un = np.unique(exp[:,j])\n",
    "    code = np.eye(un.shape[0])\n",
    " \n",
    "    for i in range(exp[:,j].shape[0]):\n",
    "        #print(v[i])\n",
    "        r=code[exp[:,j][i]==un]\n",
    "        #print(r)\n",
    "        if len(new)==0:\n",
    "            new = r\n",
    "        else:\n",
    "            new = np.append(new,r,axis=0)\n",
    "#splitting the array back to 2 columns\n",
    "a = new[:exp.shape[0]]\n",
    "b = new[exp.shape[0]:]\n",
    "\n",
    "#then joining them back together\n",
    "arr = np.concatenate((a, b), axis=1)\n",
    "print(\"\\n\\nTableau de codage disjonctif complet:\\n\")\n",
    "df = pd.DataFrame({0: arr[:,0], 1: arr[:,1], 2: arr[:,2], 3: arr[:,3]})\n",
    "print(df)"
   ]
  },
  {
   "cell_type": "code",
   "execution_count": 56,
   "metadata": {},
   "outputs": [
    {
     "name": "stdout",
     "output_type": "stream",
     "text": [
      "\n",
      "\n",
      "Tableau de distance en utilisant la mesure de dissimilarité:\n",
      "\n",
      "     0    1    2    3    4    5    6\n",
      "0  0.0  0.5  0.5  1.0  0.0  0.5  0.5\n",
      "1  0.5  0.0  1.0  0.5  0.5  0.0  1.0\n",
      "2  0.5  1.0  0.0  0.5  0.5  1.0  0.0\n",
      "3  1.0  0.5  0.5  0.0  1.0  0.5  0.5\n",
      "4  0.0  0.5  0.5  1.0  0.0  0.5  0.5\n",
      "5  0.5  0.0  1.0  0.5  0.5  0.0  1.0\n",
      "6  0.5  1.0  0.0  0.5  0.5  1.0  0.0\n"
     ]
    }
   ],
   "source": [
    "dist = np.zeros((exp.shape[0],exp.shape[0]))\n",
    "\n",
    "for i in range(arr.shape[0]):\n",
    "    for j in range(arr.shape[0]):\n",
    "        a = sum(((arr[i,:]==1)&(arr[j,:]==1))) #a = sum(((df[i]==1)&(df[j]==1)))\n",
    "        b = sum(((arr[i,:]==1)&(arr[j,:]==0)))\n",
    "        c = sum(((arr[i,:]==0)&(arr[j,:]==1)))\n",
    "        d = sum(((arr[i,:]==0)&(arr[j,:]==0)))\n",
    "        mesure = (b+c)/(a+b+c+d)\n",
    "        dist[i,j] = mesure\n",
    "print(\"\\n\\nTableau de distance en utilisant la mesure de dissimilarité:\\n\")\n",
    "dist_df = pd.DataFrame(data=dist)\n",
    "print(dist_df)"
   ]
  },
  {
   "cell_type": "code",
   "execution_count": 57,
   "metadata": {},
   "outputs": [
    {
     "name": "stdout",
     "output_type": "stream",
     "text": [
      "\n",
      "\n",
      "Tableau de BURT:\n",
      "\n",
      "     0    1    2    3\n",
      "0  3.0  0.0  1.0  2.0\n",
      "1  0.0  4.0  2.0  2.0\n",
      "2  1.0  2.0  3.0  0.0\n",
      "3  2.0  2.0  0.0  4.0\n"
     ]
    }
   ],
   "source": [
    "#Q3: Reduire le tableau de codage\n",
    "burt = np.zeros((df.shape[1],df.shape[1]))\n",
    "rd = pd.DataFrame(data=burt)\n",
    "for i in range(df.shape[1]):\n",
    "    rd[i][i] = df.sum(axis=0)[i]\n",
    "for i in range(df.shape[1]):\n",
    "    for j in range(df.shape[1]):\n",
    "        rd[i][j] = sum(df[i]*df[j])\n",
    "print(\"\\n\\nTableau de BURT:\\n\")\n",
    "print(rd) \n"
   ]
  }
 ],
 "metadata": {
  "kernelspec": {
   "display_name": "Python 3 (ipykernel)",
   "language": "python",
   "name": "python3"
  },
  "language_info": {
   "codemirror_mode": {
    "name": "ipython",
    "version": 3
   },
   "file_extension": ".py",
   "mimetype": "text/x-python",
   "name": "python",
   "nbconvert_exporter": "python",
   "pygments_lexer": "ipython3",
   "version": "3.11.2"
  },
  "orig_nbformat": 4
 },
 "nbformat": 4,
 "nbformat_minor": 2
}
