{
 "cells": [
  {
   "cell_type": "code",
   "execution_count": 2,
   "metadata": {},
   "outputs": [],
   "source": [
    "#importing stuff\n",
    "import numpy as np\n",
    "import pandas as pd\n",
    "import matplotlib.pyplot as plt\n",
    "import math"
   ]
  },
  {
   "cell_type": "code",
   "execution_count": 3,
   "metadata": {},
   "outputs": [
    {
     "name": "stdout",
     "output_type": "stream",
     "text": [
      "\n",
      " Notre Matrice \n",
      "\n",
      " X=\n"
     ]
    },
    {
     "data": {
      "text/html": [
       "<div>\n",
       "<style scoped>\n",
       "    .dataframe tbody tr th:only-of-type {\n",
       "        vertical-align: middle;\n",
       "    }\n",
       "\n",
       "    .dataframe tbody tr th {\n",
       "        vertical-align: top;\n",
       "    }\n",
       "\n",
       "    .dataframe thead th {\n",
       "        text-align: right;\n",
       "    }\n",
       "</style>\n",
       "<table border=\"1\" class=\"dataframe\">\n",
       "  <thead>\n",
       "    <tr style=\"text-align: right;\">\n",
       "      <th></th>\n",
       "      <th>N1</th>\n",
       "      <th>N2</th>\n",
       "      <th>N3</th>\n",
       "    </tr>\n",
       "  </thead>\n",
       "  <tbody>\n",
       "    <tr>\n",
       "      <th>0</th>\n",
       "      <td>8</td>\n",
       "      <td>1</td>\n",
       "      <td>0</td>\n",
       "    </tr>\n",
       "    <tr>\n",
       "      <th>1</th>\n",
       "      <td>4</td>\n",
       "      <td>6</td>\n",
       "      <td>5</td>\n",
       "    </tr>\n",
       "    <tr>\n",
       "      <th>2</th>\n",
       "      <td>6</td>\n",
       "      <td>8</td>\n",
       "      <td>7</td>\n",
       "    </tr>\n",
       "    <tr>\n",
       "      <th>3</th>\n",
       "      <td>10</td>\n",
       "      <td>4</td>\n",
       "      <td>7</td>\n",
       "    </tr>\n",
       "    <tr>\n",
       "      <th>4</th>\n",
       "      <td>8</td>\n",
       "      <td>2</td>\n",
       "      <td>5</td>\n",
       "    </tr>\n",
       "    <tr>\n",
       "      <th>5</th>\n",
       "      <td>0</td>\n",
       "      <td>3</td>\n",
       "      <td>6</td>\n",
       "    </tr>\n",
       "  </tbody>\n",
       "</table>\n",
       "</div>"
      ],
      "text/plain": [
       "   N1  N2  N3\n",
       "0   8   1   0\n",
       "1   4   6   5\n",
       "2   6   8   7\n",
       "3  10   4   7\n",
       "4   8   2   5\n",
       "5   0   3   6"
      ]
     },
     "metadata": {},
     "output_type": "display_data"
    }
   ],
   "source": [
    "#### Notre matrice\n",
    "exp = np.array([[8, 1, 0],\n",
    "                [4, 6, 5],\n",
    "                [6, 8, 7],\n",
    "                [10, 4, 7],\n",
    "                [8, 2, 5],\n",
    "                [0, 3, 6],\n",
    "                ])\n",
    "df = pd.DataFrame(data=exp, columns=[\"N1\", \"N2\", \"N3\"])\n",
    "print(\"\\n Notre Matrice \\n\\n X=\")\n",
    "display(df)"
   ]
  },
  {
   "cell_type": "code",
   "execution_count": 4,
   "metadata": {},
   "outputs": [
    {
     "name": "stdout",
     "output_type": "stream",
     "text": [
      "\n",
      " =====> Etape 1: Centrer le tableau \n",
      "\n",
      " X-g =\n"
     ]
    },
    {
     "data": {
      "text/html": [
       "<div>\n",
       "<style scoped>\n",
       "    .dataframe tbody tr th:only-of-type {\n",
       "        vertical-align: middle;\n",
       "    }\n",
       "\n",
       "    .dataframe tbody tr th {\n",
       "        vertical-align: top;\n",
       "    }\n",
       "\n",
       "    .dataframe thead th {\n",
       "        text-align: right;\n",
       "    }\n",
       "</style>\n",
       "<table border=\"1\" class=\"dataframe\">\n",
       "  <thead>\n",
       "    <tr style=\"text-align: right;\">\n",
       "      <th></th>\n",
       "      <th>N1</th>\n",
       "      <th>N2</th>\n",
       "      <th>N3</th>\n",
       "    </tr>\n",
       "  </thead>\n",
       "  <tbody>\n",
       "    <tr>\n",
       "      <th>0</th>\n",
       "      <td>2.0</td>\n",
       "      <td>-3.0</td>\n",
       "      <td>-5.0</td>\n",
       "    </tr>\n",
       "    <tr>\n",
       "      <th>1</th>\n",
       "      <td>-2.0</td>\n",
       "      <td>2.0</td>\n",
       "      <td>0.0</td>\n",
       "    </tr>\n",
       "    <tr>\n",
       "      <th>2</th>\n",
       "      <td>0.0</td>\n",
       "      <td>4.0</td>\n",
       "      <td>2.0</td>\n",
       "    </tr>\n",
       "    <tr>\n",
       "      <th>3</th>\n",
       "      <td>4.0</td>\n",
       "      <td>0.0</td>\n",
       "      <td>2.0</td>\n",
       "    </tr>\n",
       "    <tr>\n",
       "      <th>4</th>\n",
       "      <td>2.0</td>\n",
       "      <td>-2.0</td>\n",
       "      <td>0.0</td>\n",
       "    </tr>\n",
       "    <tr>\n",
       "      <th>5</th>\n",
       "      <td>-6.0</td>\n",
       "      <td>-1.0</td>\n",
       "      <td>1.0</td>\n",
       "    </tr>\n",
       "  </tbody>\n",
       "</table>\n",
       "</div>"
      ],
      "text/plain": [
       "    N1   N2   N3\n",
       "0  2.0 -3.0 -5.0\n",
       "1 -2.0  2.0  0.0\n",
       "2  0.0  4.0  2.0\n",
       "3  4.0  0.0  2.0\n",
       "4  2.0 -2.0  0.0\n",
       "5 -6.0 -1.0  1.0"
      ]
     },
     "metadata": {},
     "output_type": "display_data"
    }
   ],
   "source": [
    "print(\"\\n =====> Etape 1: Centrer le tableau \\n\\n X-g =\")\n",
    "df1 = pd.DataFrame()\n",
    "for i in df:\n",
    "    df1[i] = df[i] - df[i].mean()\n",
    "display(df1)"
   ]
  },
  {
   "cell_type": "code",
   "execution_count": 5,
   "metadata": {},
   "outputs": [
    {
     "name": "stdout",
     "output_type": "stream",
     "text": [
      " =====> Etape 2: Calculer la matrice variance covariance \n",
      "\n",
      " V=\n"
     ]
    },
    {
     "data": {
      "text/html": [
       "<div>\n",
       "<style scoped>\n",
       "    .dataframe tbody tr th:only-of-type {\n",
       "        vertical-align: middle;\n",
       "    }\n",
       "\n",
       "    .dataframe tbody tr th {\n",
       "        vertical-align: top;\n",
       "    }\n",
       "\n",
       "    .dataframe thead th {\n",
       "        text-align: right;\n",
       "    }\n",
       "</style>\n",
       "<table border=\"1\" class=\"dataframe\">\n",
       "  <thead>\n",
       "    <tr style=\"text-align: right;\">\n",
       "      <th></th>\n",
       "      <th>N1</th>\n",
       "      <th>N2</th>\n",
       "      <th>N3</th>\n",
       "    </tr>\n",
       "  </thead>\n",
       "  <tbody>\n",
       "    <tr>\n",
       "      <th>N1</th>\n",
       "      <td>10.666667</td>\n",
       "      <td>-1.333333</td>\n",
       "      <td>-1.333333</td>\n",
       "    </tr>\n",
       "    <tr>\n",
       "      <th>N2</th>\n",
       "      <td>-1.333333</td>\n",
       "      <td>5.666667</td>\n",
       "      <td>3.666667</td>\n",
       "    </tr>\n",
       "    <tr>\n",
       "      <th>N3</th>\n",
       "      <td>-1.333333</td>\n",
       "      <td>3.666667</td>\n",
       "      <td>5.666667</td>\n",
       "    </tr>\n",
       "  </tbody>\n",
       "</table>\n",
       "</div>"
      ],
      "text/plain": [
       "           N1        N2        N3\n",
       "N1  10.666667 -1.333333 -1.333333\n",
       "N2  -1.333333  5.666667  3.666667\n",
       "N3  -1.333333  3.666667  5.666667"
      ]
     },
     "metadata": {},
     "output_type": "display_data"
    }
   ],
   "source": [
    "print(\" =====> Etape 2: Calculer la matrice variance covariance \\n\\n V=\")\n",
    "V = 1 / df1.shape[0] * df1.T @ df1 \n",
    "display(V)"
   ]
  },
  {
   "cell_type": "code",
   "execution_count": 6,
   "metadata": {},
   "outputs": [
    {
     "name": "stdout",
     "output_type": "stream",
     "text": [
      " =====> Etape 3: Détermination de la métrique\n",
      " #### Les données sont homogènes #### \n",
      "\n",
      " M=\n"
     ]
    },
    {
     "data": {
      "text/html": [
       "<div>\n",
       "<style scoped>\n",
       "    .dataframe tbody tr th:only-of-type {\n",
       "        vertical-align: middle;\n",
       "    }\n",
       "\n",
       "    .dataframe tbody tr th {\n",
       "        vertical-align: top;\n",
       "    }\n",
       "\n",
       "    .dataframe thead th {\n",
       "        text-align: right;\n",
       "    }\n",
       "</style>\n",
       "<table border=\"1\" class=\"dataframe\">\n",
       "  <thead>\n",
       "    <tr style=\"text-align: right;\">\n",
       "      <th></th>\n",
       "      <th>0</th>\n",
       "      <th>1</th>\n",
       "      <th>2</th>\n",
       "    </tr>\n",
       "  </thead>\n",
       "  <tbody>\n",
       "    <tr>\n",
       "      <th>0</th>\n",
       "      <td>1.0</td>\n",
       "      <td>0.0</td>\n",
       "      <td>0.0</td>\n",
       "    </tr>\n",
       "    <tr>\n",
       "      <th>1</th>\n",
       "      <td>0.0</td>\n",
       "      <td>1.0</td>\n",
       "      <td>0.0</td>\n",
       "    </tr>\n",
       "    <tr>\n",
       "      <th>2</th>\n",
       "      <td>0.0</td>\n",
       "      <td>0.0</td>\n",
       "      <td>1.0</td>\n",
       "    </tr>\n",
       "  </tbody>\n",
       "</table>\n",
       "</div>"
      ],
      "text/plain": [
       "     0    1    2\n",
       "0  1.0  0.0  0.0\n",
       "1  0.0  1.0  0.0\n",
       "2  0.0  0.0  1.0"
      ]
     },
     "metadata": {},
     "output_type": "display_data"
    }
   ],
   "source": [
    "print(\" =====> Etape 3: Détermination de la métrique\")\n",
    "print(\" #### Les données sont homogènes #### \\n\\n M=\")\n",
    "m = np.zeros((V.shape[0], V.shape[0]))\n",
    "np.fill_diagonal(m, 1)\n",
    "M = pd.DataFrame(data=m)\n",
    "display(M)"
   ]
  },
  {
   "cell_type": "code",
   "execution_count": 7,
   "metadata": {},
   "outputs": [
    {
     "name": "stdout",
     "output_type": "stream",
     "text": [
      " =====> Etape 4: Recherche des axes principaux 𝑼𝒌 de la matrice (VM)\n",
      " #### Calculer les valeurs propres de la matrice (V.M) :\n",
      "λ1 = 2\n",
      "λ2 = 8\n",
      "λ3 = 12\n",
      " #### Trier les valeurs propres par ordre décroissant :\n",
      "λ1 = 12\n",
      "λ2 = 8\n",
      "λ3 = 2\n"
     ]
    }
   ],
   "source": [
    "print(\" =====> Etape 4: Recherche des axes principaux 𝑼𝒌 de la matrice (VM)\")\n",
    "print(\" #### Calculer les valeurs propres de la matrice (V.M) :\")\n",
    "VM = V\n",
    "valeurs, vecteurs = np.linalg.eig(VM)\n",
    "count = 0\n",
    "for i in valeurs[::-1]:\n",
    "    count += 1\n",
    "    print(\"λ\"+str(count)+\" =\", round(i))\n",
    "print(\" #### Trier les valeurs propres par ordre décroissant :\")\n",
    "sorted_valeurs = np.sort(valeurs)[::-1]\n",
    "rounded_arr = np.round(sorted_valeurs, decimals=1) #rounding up the values cause they changed for some reason\n",
    "list_valeurs = rounded_arr.tolist()\n",
    "count = 0\n",
    "for i in list_valeurs:\n",
    "    count += 1\n",
    "    print(\"λ\"+str(count)+\" =\", round(i))\n"
   ]
  },
  {
   "cell_type": "code",
   "execution_count": 8,
   "metadata": {},
   "outputs": [
    {
     "name": "stdout",
     "output_type": "stream",
     "text": [
      " =====> Calculer la qualité de représentation :\n",
      "Q = 0.9090909090909091\n",
      " #### Les valeurs principaux sont:\n",
      "λ1 = 12\n",
      "λ2 = 8\n"
     ]
    }
   ],
   "source": [
    "print(\" =====> Calculer la qualité de représentation :\")\n",
    "q = 0\n",
    "ls = 0\n",
    "list_valeurs_principaux = []\n",
    "for i in list_valeurs:\n",
    "    if q < 0.8:\n",
    "        ls += i\n",
    "        list_valeurs_principaux.append(i)\n",
    "        q = ls / sum(list_valeurs)\n",
    "print(\"Q =\",q)\n",
    "count = 0\n",
    "print(\" #### Les valeurs principaux sont:\")\n",
    "for i in list_valeurs_principaux:\n",
    "    count += 1\n",
    "    print(\"λ\"+str(count)+\" =\", round(i))"
   ]
  },
  {
   "cell_type": "code",
   "execution_count": 9,
   "metadata": {},
   "outputs": [
    {
     "name": "stdout",
     "output_type": "stream",
     "text": [
      " =====> Etape 6: Calculer les vecteurs propres 𝑼𝒌 :\n",
      "U1 = [ 8.16496581e-01 -5.77350269e-01  1.39563774e-17]\n",
      "U2 = [-0.40824829 -0.57735027 -0.70710678]\n"
     ]
    }
   ],
   "source": [
    "print(\" =====> Etape 6: Calculer les vecteurs propres 𝑼𝒌 :\")\n",
    "list_vecteurs_principaux = []\n",
    "for i in range(len(list_valeurs_principaux)):\n",
    "    list_vecteurs_principaux.append(vecteurs[i])\n",
    "count = 0\n",
    "for i in list_vecteurs_principaux:\n",
    "    count+= 1\n",
    "    print(\"U\"+str(count)+\" =\", i)"
   ]
  },
  {
   "cell_type": "code",
   "execution_count": 10,
   "metadata": {},
   "outputs": [
    {
     "name": "stdout",
     "output_type": "stream",
     "text": [
      " =====> Etape 7: Calculer les composantes principales :\n",
      " #### Le nouveau espace: \n",
      "\n",
      " C =\n",
      "         U1        U2\n",
      "0  3.365044  4.451088\n",
      "1 -2.787694 -0.338204\n",
      "2 -2.309401 -3.723615\n",
      "3  3.265986 -3.047207\n",
      "4  2.787694  0.338204\n",
      "5 -4.321629  2.319733\n"
     ]
    }
   ],
   "source": [
    "print(\" =====> Etape 7: Calculer les composantes principales :\")\n",
    "list_composantes_principales =  []\n",
    "for i in range(len(list_vecteurs_principaux)):\n",
    "    list_composantes_principales.append(df1.values.dot(list_vecteurs_principaux[i]))\n",
    "C = pd.DataFrame()\n",
    "count = 0\n",
    "for i in list_composantes_principales:\n",
    "    count += 1\n",
    "    C[\"U\"+str(count)] = i\n",
    "print(\" #### Le nouveau espace: \\n\\n C =\")\n",
    "print(C)"
   ]
  },
  {
   "cell_type": "code",
   "execution_count": 11,
   "metadata": {},
   "outputs": [
    {
     "name": "stdout",
     "output_type": "stream",
     "text": [
      " =====> Etape 8: Représenter graphiquement\n"
     ]
    },
    {
     "data": {
      "image/png": "[encoded data removed]",
      "text/plain": [
       "<Figure size 640x480 with 1 Axes>"
      ]
     },
     "metadata": {},
     "output_type": "display_data"
    }
   ],
   "source": [
    "print(\" =====> Etape 8: Représenter graphiquement\")\n",
    "# Draw the black lines\n",
    "plt.plot([-10, 10], [0, 0], 'k-', lw=1)\n",
    "plt.plot([0, 0], [-10, 10], 'k-', lw=1)\n",
    "\n",
    "plt.scatter(C[\"U1\"], C[\"U2\"])\n",
    "n = []\n",
    "for i in range(len(C.index)):\n",
    "    n.append(\"I\"+str(i+1))\n",
    "for i, txt in enumerate(n):\n",
    "    plt.annotate(txt, (C[\"U1\"][i], C[\"U2\"][i]))"
   ]
  },
  {
   "cell_type": "code",
   "execution_count": 12,
   "metadata": {},
   "outputs": [
    {
     "name": "stdout",
     "output_type": "stream",
     "text": [
      " =====> Etape 9: Les contributions aux inerties : \n",
      "\n",
      " #### Part d’inertie de 𝑋𝑖 prise en compte par l’axe 𝑈𝑘 \n",
      "\n",
      "Pour l'axe U1   K = 1\n",
      "cos²(O11) = 0.29798739253050105\n",
      "cos²(O21) = 0.9714045207910313\n",
      "cos²(O31) = 0.2666666666666662\n",
      "cos²(O41) = 0.5333333333333338\n",
      "cos²(O51) = 0.9714045207910313\n",
      "cos²(O61) = 0.4914862916800257\n",
      "\n",
      "\n",
      "Pour l'axe U2   K = 2\n",
      "cos²(O12) = 0.5213733043142137\n",
      "cos²(O22) = 0.014297739604484265\n",
      "cos²(O32) = 0.6932652990377572\n",
      "cos²(O42) = 0.4642734410091829\n",
      "cos²(O52) = 0.014297739604484265\n",
      "cos²(O62) = 0.14160953321089545\n",
      "\n",
      "\n"
     ]
    }
   ],
   "source": [
    "print(\" =====> Etape 9: Les contributions aux inerties : \\n\")\n",
    "print(\" #### Part d’inertie de 𝑋𝑖 prise en compte par l’axe 𝑈𝑘 \\n\")\n",
    "count = 0\n",
    "l = []\n",
    "for i in range(len(list_vecteurs_principaux)):\n",
    "    count += 1\n",
    "    individu = 0\n",
    "    print(\"Pour l'axe U\"+str(count), \"  K =\", str(count))\n",
    "    for index, row in df1.iterrows():\n",
    "            X = np.array([row[0], row[1], row[2]])\n",
    "            cos = np.dot(X, list_vecteurs_principaux[i])**2 / sum(X**2)\n",
    "            individu += 1\n",
    "            l.append(cos)\n",
    "            print(\"cos²(O\"+str(individu)+str(count)+\") =\", cos)\n",
    "    print(\"\\n\")"
   ]
  },
  {
   "cell_type": "code",
   "execution_count": 13,
   "metadata": {},
   "outputs": [
    {
     "name": "stdout",
     "output_type": "stream",
     "text": [
      " Représente la contribution de l’individu par rapport au nouvel espace \n",
      "\n",
      "\n",
      "p1 = 0.8193606968447147\n",
      "p2 = 0.9857022603955156\n",
      "p3 = 0.9599319657044234\n",
      "p4 = 0.9976067743425167\n",
      "p5 = 0.9857022603955156\n",
      "p6 = 0.6330958248909212\n"
     ]
    }
   ],
   "source": [
    "print(\" Représente la contribution de l’individu par rapport au nouvel espace \\n\\n\")\n",
    "half = len(l) // 2\n",
    "cos1 = l[:half]\n",
    "cos2 = l[half:]\n",
    "count = 0\n",
    "for i in range(len(cos1)):\n",
    "    count += 1\n",
    "    print(\"p\"+str(count) + \" =\", cos1[i] + cos2[i])"
   ]
  },
  {
   "cell_type": "code",
   "execution_count": 14,
   "metadata": {},
   "outputs": [
    {
     "name": "stdout",
     "output_type": "stream",
     "text": [
      "#### Contribution relative de l’individu 𝑋𝑖 à l’inertie expliquée de l’axe 𝑈𝑘:\n",
      "Pour l'axe U1   K = 1\n",
      "p11 = 0.004629629629629668\n",
      "p21 = -0.00925925925925929\n",
      "p31 = 0.018518518518518486\n",
      "p41 = 0.03703703703703707\n",
      "p51 = 0.00925925925925929\n",
      "p61 = -0.06018518518518523\n",
      "\n",
      "\n",
      "Pour l'axe U2   K = 2\n",
      "p12 = -0.06597222222222225\n",
      "p22 = 0.0069444444444444675\n",
      "p32 = 0.048611111111111126\n",
      "p42 = 0.03472222222222219\n",
      "p52 = -0.0069444444444444675\n",
      "p62 = -0.017361111111111056\n",
      "\n",
      "\n"
     ]
    }
   ],
   "source": [
    "print('#### Contribution relative de l’individu 𝑋𝑖 à l’inertie expliquée de l’axe 𝑈𝑘:')\n",
    "count = 0\n",
    "for i in range(len(list_vecteurs_principaux)):\n",
    "    count += 1\n",
    "    individu = 0\n",
    "    print(\"Pour l'axe U\"+str(count), \"  K =\", str(count))\n",
    "    for index, row in df1.iterrows():\n",
    "            X = np.array([row[0], row[1], row[2]])\n",
    "            pik = (X @list_vecteurs_principaux[i]**2 / df1.shape[0]) / list_valeurs_principaux[i]\n",
    "            individu += 1\n",
    "            print(\"p\"+str(individu)+str(count)+\" =\", pik)\n",
    "    print(\"\\n\")"
   ]
  },
  {
   "cell_type": "code",
   "execution_count": 16,
   "metadata": {},
   "outputs": [
    {
     "name": "stdout",
     "output_type": "stream",
     "text": [
      " =====> Etape 10: Représentation des variables à l’aide du coefficient de corrélation:\n"
     ]
    },
    {
     "data": {
      "text/html": [
       "<div>\n",
       "<style scoped>\n",
       "    .dataframe tbody tr th:only-of-type {\n",
       "        vertical-align: middle;\n",
       "    }\n",
       "\n",
       "    .dataframe tbody tr th {\n",
       "        vertical-align: top;\n",
       "    }\n",
       "\n",
       "    .dataframe thead th {\n",
       "        text-align: right;\n",
       "    }\n",
       "</style>\n",
       "<table border=\"1\" class=\"dataframe\">\n",
       "  <thead>\n",
       "    <tr style=\"text-align: right;\">\n",
       "      <th></th>\n",
       "      <th>U1</th>\n",
       "      <th>U2</th>\n",
       "    </tr>\n",
       "  </thead>\n",
       "  <tbody>\n",
       "    <tr>\n",
       "      <th>N1</th>\n",
       "      <td>0.837842</td>\n",
       "      <td>-0.286009</td>\n",
       "    </tr>\n",
       "    <tr>\n",
       "      <th>N2</th>\n",
       "      <td>-0.528766</td>\n",
       "      <td>-0.790144</td>\n",
       "    </tr>\n",
       "    <tr>\n",
       "      <th>N3</th>\n",
       "      <td>-0.388738</td>\n",
       "      <td>-0.828688</td>\n",
       "    </tr>\n",
       "  </tbody>\n",
       "</table>\n",
       "</div>"
      ],
      "text/plain": [
       "          U1        U2\n",
       "N1  0.837842 -0.286009\n",
       "N2 -0.528766 -0.790144\n",
       "N3 -0.388738 -0.828688"
      ]
     },
     "metadata": {},
     "output_type": "display_data"
    }
   ],
   "source": [
    "print(\" =====> Etape 10: Représentation des variables à l’aide du coefficient de corrélation:\")\n",
    "cor1 = 1 / df1.shape[0] * (df1['N1'] @ C['U1']) / (math.sqrt(V[\"N1\"][\"N1\"]) * math.sqrt(list_valeurs_principaux[0]))\n",
    "cor2 = 1 / df1.shape[0] * (df1['N1'] @ C['U2']) / (math.sqrt(V[\"N1\"][\"N1\"]) * math.sqrt(list_valeurs_principaux[1]))\n",
    "\n",
    "cor3 = 1 / df1.shape[0] * (df1['N2'] @ C['U1']) / (math.sqrt(V[\"N2\"][\"N2\"]) * math.sqrt(list_valeurs_principaux[0]))\n",
    "cor4 = 1 / df1.shape[0] * (df1['N2'] @ C['U2']) / (math.sqrt(V[\"N2\"][\"N2\"]) * math.sqrt(list_valeurs_principaux[1]))\n",
    "\n",
    "cor5 = 1 / df1.shape[0] * (df1['N3'] @ C['U1']) / (math.sqrt(V[\"N3\"][\"N3\"]) * math.sqrt(list_valeurs_principaux[0]))\n",
    "cor6 = 1 / df1.shape[0] * (df1['N3'] @ C['U2']) / (math.sqrt(V[\"N3\"][\"N3\"]) * math.sqrt(list_valeurs_principaux[1]))\n",
    "\n",
    "corr = pd.DataFrame({\"U1\": [cor1, cor3, cor5], \"U2\": [cor2, cor4, cor6]}, index=[\"N1\", 'N2', 'N3'])\n",
    "display(corr)"
   ]
  },
  {
   "cell_type": "code",
   "execution_count": 17,
   "metadata": {},
   "outputs": [
    {
     "data": {
      "image/png": "[encoded data removed]",
      "text/plain": [
       "<Figure size 640x480 with 1 Axes>"
      ]
     },
     "metadata": {},
     "output_type": "display_data"
    }
   ],
   "source": [
    "# the correlation coefficients represantation for each variable\n",
    "x = [-1, 1, 0, 0]\n",
    "y = [0, 0, -1, 1]\n",
    "\n",
    "fig, ax = plt.subplots()\n",
    "plt.scatter(x, y)\n",
    "\n",
    "# draw a circle around the points\n",
    "circle = plt.Circle((0, 0), radius=1, facecolor='none', edgecolor='green')\n",
    "ax.add_artist(circle)\n",
    "\n",
    "ax.plot([-1, 1], [0, 0], 'k-', lw=1)\n",
    "ax.plot([0, 0], [-1, 1], 'k-', lw=1)\n",
    "\n",
    "\n",
    "ax.scatter([cor1, cor3], [cor2, cor4], c='r')\n",
    "\n",
    "plt.show()"
   ]
  }
 ],
 "metadata": {
  "kernelspec": {
   "display_name": "Python 3",
   "language": "python",
   "name": "python3"
  },
  "language_info": {
   "codemirror_mode": {
    "name": "ipython",
    "version": 3
   },
   "file_extension": ".py",
   "mimetype": "text/x-python",
   "name": "python",
   "nbconvert_exporter": "python",
   "pygments_lexer": "ipython3",
   "version": "3.11.3"
  },
  "orig_nbformat": 4
 },
 "nbformat": 4,
 "nbformat_minor": 2
}
