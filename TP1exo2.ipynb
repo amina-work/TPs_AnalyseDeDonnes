{
 "cells": [
  {
   "cell_type": "code",
   "execution_count": 51,
   "metadata": {},
   "outputs": [
    {
     "name": "stdout",
     "output_type": "stream",
     "text": [
      "\n",
      "Notre tableau de données:\n",
      "\n",
      "   0  1  2\n",
      "0  f  m  a\n",
      "1  f  m  a\n",
      "2  f  e  b\n",
      "3  f  e  c\n",
      "4  f  e  c\n",
      "5  h  e  c\n",
      "6  h  e  b\n",
      "7  h  m  b\n",
      "8  h  m  b\n",
      "9  h  m  a\n"
     ]
    }
   ],
   "source": [
    "#Tp N°1\n",
    "#exo2\n",
    "\n",
    "import numpy as np\n",
    "import pandas as pd\n",
    "exp= np.array([[\"f\", 'm', \"a\"], \n",
    "              [\"f\", 'm',\"a\"], \n",
    "              [\"f\", 'e',\"b\"], \n",
    "              [\"f\", 'e',\"c\"],\n",
    "              [\"f\", 'e', \"c\"], \n",
    "              [\"h\", 'e',\"c\"], \n",
    "              [\"h\", 'e',\"b\"],\n",
    "              [\"h\", 'm',\"b\"],\n",
    "              [\"h\", 'm',\"b\"], \n",
    "              [\"h\", 'm',\"a\"]])\n",
    "\n",
    "df = pd.DataFrame(data=exp)\n",
    "print(\"\\nNotre tableau de données:\\n\")\n",
    "print(df)"
   ]
  },
  {
   "cell_type": "code",
   "execution_count": 52,
   "metadata": {},
   "outputs": [
    {
     "name": "stdout",
     "output_type": "stream",
     "text": [
      "\n",
      "Tableau de codage disjonctif:\n",
      "\n",
      "   0_f  0_h  2  3  4  5  6\n",
      "0    1    0  1  0  1  0  0\n",
      "1    1    0  1  0  1  0  0\n",
      "2    1    0  1  1  0  1  0\n",
      "3    1    0  1  1  0  0  1\n",
      "4    1    0  1  1  0  0  1\n",
      "5    0    1  1  1  0  0  1\n",
      "6    0    1  1  1  0  1  0\n",
      "7    0    1  1  0  0  1  0\n",
      "8    0    1  1  0  0  1  0\n",
      "9    0    1  1  0  1  0  0\n"
     ]
    }
   ],
   "source": [
    "#Q1: Déterminer le tableau de codage disjoonctif complet\n",
    "#Déterminer le nombre de valeurs uniques dans chaque colonne\n",
    "#Et créer le montant approprié de {0,1}\n",
    "tc = pd.get_dummies(df)\n",
    "tc.rename(columns = {'0_f' : '0', '0_h' : '1', \"1_e\":\"2\", '1_m':'3', \"2_a\":\"4\", \"2_b\":\"5\", \"2_c\":\"6\"}, inplace = True)\n",
    "\n",
    "new = pd.get_dummies(df)\n",
    "new.rename(columns = {'0_[0. 1.]' : '0', '0_[1. 0.]' : '1', \"1_e\":\"2\", '1_m':'3', \"2_a\":\"4\", \"2_b\":\"5\", \"2_c\":\"6\"}, inplace = True)\n",
    "for i in range(len(new[\"2\"])):\n",
    "        if new[\"2\"][i] == 0 and new[\"3\"][i] == 1:\n",
    "            new[\"2\"][i] = 1\n",
    "            new[\"3\"][i] = 0\n",
    "            #new[\"3\"] = new[\"3\"].replace(1, 0)\n",
    "        elif new[\"2\"][i] == 1 and new[\"3\"][i] == 0:\n",
    "            new[\"2\"][i] = 1\n",
    "            new[\"3\"][i] = 1\n",
    "print(\"\\nTableau de codage disjonctif:\\n\")\n",
    "print(new)"
   ]
  },
  {
   "cell_type": "code",
   "execution_count": 53,
   "metadata": {},
   "outputs": [
    {
     "name": "stdout",
     "output_type": "stream",
     "text": [
      "\n",
      "***** on considere la 2eme variable comme nominal pour reduire le tableau ****\n",
      "\n",
      "\n",
      "Tableau de codage disjonctif complet:\n",
      "\n",
      "   0  1  2  3  4  5  6\n",
      "0  1  0  0  1  1  0  0\n",
      "1  1  0  0  1  1  0  0\n",
      "2  1  0  1  0  0  1  0\n",
      "3  1  0  1  0  0  0  1\n",
      "4  1  0  1  0  0  0  1\n",
      "5  0  1  1  0  0  0  1\n",
      "6  0  1  1  0  0  1  0\n",
      "7  0  1  0  1  0  1  0\n",
      "8  0  1  0  1  0  1  0\n",
      "9  0  1  0  1  1  0  0\n"
     ]
    }
   ],
   "source": [
    "#on considere la 2eme variable comme nominal pour reduire le tableau\n",
    "print(\"\\n***** on considere la 2eme variable comme nominal pour reduire le tableau ****\")\n",
    "print(\"\\n\\nTableau de codage disjonctif complet:\\n\")\n",
    "print(tc)"
   ]
  },
  {
   "cell_type": "code",
   "execution_count": 54,
   "metadata": {},
   "outputs": [
    {
     "name": "stdout",
     "output_type": "stream",
     "text": [
      "\n",
      "\n",
      "Tableau de BURT:\n",
      "\n",
      "     0    1    2    3    4    5    6\n",
      "0  5.0  0.0  3.0  2.0  2.0  1.0  2.0\n",
      "1  0.0  5.0  2.0  3.0  1.0  3.0  1.0\n",
      "2  3.0  2.0  5.0  0.0  0.0  2.0  3.0\n",
      "3  2.0  3.0  0.0  5.0  3.0  2.0  0.0\n",
      "4  2.0  1.0  0.0  3.0  3.0  0.0  0.0\n",
      "5  1.0  3.0  2.0  2.0  0.0  4.0  0.0\n",
      "6  2.0  1.0  3.0  0.0  0.0  0.0  3.0\n"
     ]
    }
   ],
   "source": [
    "burt = np.zeros((tc.shape[1],tc.shape[1]))\n",
    "rd = pd.DataFrame(data=burt)\n",
    "for i in range(tc.shape[1]):\n",
    "    rd[i][i] = tc.sum(axis=0)[i]\n",
    "for i in range(tc.shape[1]):\n",
    "    for j in range(tc.shape[1]):\n",
    "        rd[i][j] = sum(tc[str(i)]*tc[str(j)])\n",
    "print(\"\\n\\nTableau de BURT:\\n\")\n",
    "print(rd) "
   ]
  },
  {
   "cell_type": "code",
   "execution_count": 55,
   "metadata": {},
   "outputs": [
    {
     "name": "stdout",
     "output_type": "stream",
     "text": [
      "\n",
      "\n",
      "Tableau de distance en utilisant la mesure de ressemblance:\n",
      "\n",
      "      0     1     2     3     4     5     6     7     8     9\n",
      "0  1.00  1.00  0.43  0.43  0.43  0.14  0.14  0.43  0.43  0.71\n",
      "1  1.00  1.00  0.43  0.43  0.43  0.14  0.14  0.43  0.43  0.71\n",
      "2  0.43  0.43  1.00  0.71  0.71  0.43  0.71  0.43  0.43  0.14\n",
      "3  0.43  0.43  0.71  1.00  1.00  0.71  0.43  0.14  0.14  0.14\n",
      "4  0.43  0.43  0.71  1.00  1.00  0.71  0.43  0.14  0.14  0.14\n",
      "5  0.14  0.14  0.43  0.71  0.71  1.00  0.71  0.43  0.43  0.43\n",
      "6  0.14  0.14  0.71  0.43  0.43  0.71  1.00  0.71  0.71  0.43\n",
      "7  0.43  0.43  0.43  0.14  0.14  0.43  0.71  1.00  1.00  0.71\n",
      "8  0.43  0.43  0.43  0.14  0.14  0.43  0.71  1.00  1.00  0.71\n",
      "9  0.71  0.71  0.14  0.14  0.14  0.43  0.43  0.71  0.71  1.00\n"
     ]
    }
   ],
   "source": [
    "dist = np.zeros((tc.shape[0],tc.shape[0]))\n",
    "arr = tc.to_numpy()\n",
    "for i in range(tc.shape[0]):\n",
    "    for j in range(tc.shape[0]):\n",
    "        a = sum(((arr[i,:]==1)&(arr[j,:]==1)))\n",
    "        b = sum(((arr[i,:]==1)&(arr[j,:]==0)))\n",
    "        c = sum(((arr[i,:]==0)&(arr[j,:]==1)))\n",
    "        d = sum(((arr[i,:]==0)&(arr[j,:]==0)))\n",
    "        mesure = (a+d)/(a+b+c+d)\n",
    "        dist[i,j] = format(mesure, \".2f\")\n",
    "print(\"\\n\\nTableau de distance en utilisant la mesure de ressemblance:\\n\")\n",
    "dist_df = pd.DataFrame(data=dist)\n",
    "print(dist_df)"
   ]
  }
 ],
 "metadata": {
  "kernelspec": {
   "display_name": "Python 3",
   "language": "python",
   "name": "python3"
  },
  "language_info": {
   "codemirror_mode": {
    "name": "ipython",
    "version": 3
   },
   "file_extension": ".py",
   "mimetype": "text/x-python",
   "name": "python",
   "nbconvert_exporter": "python",
   "pygments_lexer": "ipython3",
   "version": "3.11.2"
  },
  "orig_nbformat": 4
 },
 "nbformat": 4,
 "nbformat_minor": 2
}
