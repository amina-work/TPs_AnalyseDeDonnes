{
 "cells": [
  {
   "cell_type": "code",
   "execution_count": 2,
   "id": "6e8045ac",
   "metadata": {},
   "outputs": [],
   "source": [
    "#Tp N°1 en AND"
   ]
  },
  {
   "cell_type": "code",
   "execution_count": 3,
   "id": "da939a1f",
   "metadata": {},
   "outputs": [
    {
     "name": "stdout",
     "output_type": "stream",
     "text": [
      "     0    1\n",
      "0  oui  oui\n",
      "1  oui  non\n",
      "2  non  oui\n",
      "3  non  non\n",
      "4  oui  oui\n",
      "5  oui  non\n",
      "6  non  oui\n"
     ]
    }
   ],
   "source": [
    "#exo1\n",
    "#La database\n",
    "import numpy as np\n",
    "import pandas as pd\n",
    "\n",
    "a = np.array([[\"oui\", 'oui'], \n",
    "              [\"oui\", 'non'], \n",
    "              [\"non\", 'oui'], \n",
    "              [\"non\", 'non'],\n",
    "              [\"oui\", 'oui'], \n",
    "              [\"oui\", 'non'], \n",
    "              [\"non\", 'oui']\n",
    "              ])\n",
    "#print(np.shape(a))\n",
    "df = pd.DataFrame(data=a)\n",
    "#df = df.rename(columns={0: \"q1\", 1:\"q2\"})\n",
    "print(df)"
   ]
  },
  {
   "cell_type": "code",
   "execution_count": 4,
   "id": "37fbeadd",
   "metadata": {},
   "outputs": [
    {
     "name": "stdout",
     "output_type": "stream",
     "text": [
      "[[0. 1.]\n",
      " [0. 1.]\n",
      " [1. 0.]\n",
      " [1. 0.]\n",
      " [0. 1.]\n",
      " [0. 1.]\n",
      " [1. 0.]]\n"
     ]
    }
   ],
   "source": [
    "v=a[:,0]\n",
    "un=np.unique(v)\n",
    "code=np.eye(un.shape[0])\n",
    "\n",
    "x=np.array([])\n",
    "for i in range(v.shape[0]):\n",
    "    #print(v[i])\n",
    "    r=code[v[i]==un]\n",
    "    #print(r)\n",
    "    if len(x)==0:\n",
    "        x=r\n",
    "    else:\n",
    "        x=np.append(x,r,axis=0)\n",
    "print(x)"
   ]
  },
  {
   "cell_type": "code",
   "execution_count": 5,
   "id": "24bbdcc9",
   "metadata": {},
   "outputs": [
    {
     "name": "stdout",
     "output_type": "stream",
     "text": [
      "         0        1\n",
      "0  [1. 0.]  [1. 0.]\n",
      "1  [1. 0.]  [0. 1.]\n",
      "2  [0. 1.]  [1. 0.]\n",
      "3  [0. 1.]  [0. 1.]\n",
      "4  [1. 0.]  [1. 0.]\n",
      "5  [1. 0.]  [0. 1.]\n",
      "6  [0. 1.]  [1. 0.]\n"
     ]
    }
   ],
   "source": [
    "#Q1: Déterminer le tableau de codage disjonctif complet\n",
    "un = df[0].unique() #returns the unique value of the first column (K)\n",
    "code = np.eye(np.size(un)) #based on the number of unique values, this will create the N->{0, 1}ĸ\n",
    "\n",
    "un = df[1].unique() #returns the unique value of the first column (K)\n",
    "code = np.eye(np.size(un)) #based on the number of unique values, this will create the N->{0, 1}ĸ\n",
    "\n",
    "for i in range(a.shape[1]):\n",
    "    df = df.replace(un[i], str(code[i])); #oui -> [1 0]\n",
    "    #df[1] = df[1].replace(un[i], str(code[i])); \n",
    "print(df)\n"
   ]
  },
  {
   "cell_type": "code",
   "execution_count": 6,
   "id": "15a9b472",
   "metadata": {},
   "outputs": [
    {
     "name": "stdout",
     "output_type": "stream",
     "text": [
      "2\n",
      "0\n"
     ]
    },
    {
     "ename": "ValueError",
     "evalue": "Must pass 2-d input. shape=(1, 7, 2)",
     "output_type": "error",
     "traceback": [
      "\u001b[0;31m---------------------------------------------------------------------------\u001b[0m",
      "\u001b[0;31mValueError\u001b[0m                                Traceback (most recent call last)",
      "Cell \u001b[0;32mIn[6], line 17\u001b[0m\n\u001b[1;32m     15\u001b[0m \u001b[39mfor\u001b[39;00m j \u001b[39min\u001b[39;00m \u001b[39mrange\u001b[39m(\u001b[39mlen\u001b[39m(new) \u001b[39m-\u001b[39m \u001b[39m1\u001b[39m):\n\u001b[1;32m     16\u001b[0m     \u001b[39mprint\u001b[39m(j)\n\u001b[0;32m---> 17\u001b[0m     df[[cn, cn\u001b[39m+\u001b[39;49m\u001b[39m1\u001b[39;49m]] \u001b[39m=\u001b[39m new[j]\n\u001b[1;32m     18\u001b[0m     cn \u001b[39m+\u001b[39m\u001b[39m=\u001b[39m \u001b[39m2\u001b[39m\n\u001b[1;32m     19\u001b[0m     cn \u001b[39m+\u001b[39m\u001b[39m=\u001b[39m \u001b[39m2\u001b[39m\n",
      "File \u001b[0;32m~/.local/lib/python3.11/site-packages/pandas/core/frame.py:3968\u001b[0m, in \u001b[0;36mDataFrame.__setitem__\u001b[0;34m(self, key, value)\u001b[0m\n\u001b[1;32m   3966\u001b[0m     \u001b[39mself\u001b[39m\u001b[39m.\u001b[39m_setitem_frame(key, value)\n\u001b[1;32m   3967\u001b[0m \u001b[39melif\u001b[39;00m \u001b[39misinstance\u001b[39m(key, (Series, np\u001b[39m.\u001b[39mndarray, \u001b[39mlist\u001b[39m, Index)):\n\u001b[0;32m-> 3968\u001b[0m     \u001b[39mself\u001b[39;49m\u001b[39m.\u001b[39;49m_setitem_array(key, value)\n\u001b[1;32m   3969\u001b[0m \u001b[39melif\u001b[39;00m \u001b[39misinstance\u001b[39m(value, DataFrame):\n\u001b[1;32m   3970\u001b[0m     \u001b[39mself\u001b[39m\u001b[39m.\u001b[39m_set_item_frame_value(key, value)\n",
      "File \u001b[0;32m~/.local/lib/python3.11/site-packages/pandas/core/frame.py:4023\u001b[0m, in \u001b[0;36mDataFrame._setitem_array\u001b[0;34m(self, key, value)\u001b[0m\n\u001b[1;32m   4019\u001b[0m     \u001b[39mself\u001b[39m\u001b[39m.\u001b[39m_iset_not_inplace(key, value)\n\u001b[1;32m   4021\u001b[0m \u001b[39melif\u001b[39;00m np\u001b[39m.\u001b[39mndim(value) \u001b[39m>\u001b[39m \u001b[39m1\u001b[39m:\n\u001b[1;32m   4022\u001b[0m     \u001b[39m# list of lists\u001b[39;00m\n\u001b[0;32m-> 4023\u001b[0m     value \u001b[39m=\u001b[39m DataFrame(value)\u001b[39m.\u001b[39mvalues\n\u001b[1;32m   4024\u001b[0m     \u001b[39mreturn\u001b[39;00m \u001b[39mself\u001b[39m\u001b[39m.\u001b[39m_setitem_array(key, value)\n\u001b[1;32m   4026\u001b[0m \u001b[39melse\u001b[39;00m:\n",
      "File \u001b[0;32m~/.local/lib/python3.11/site-packages/pandas/core/frame.py:762\u001b[0m, in \u001b[0;36mDataFrame.__init__\u001b[0;34m(self, data, index, columns, dtype, copy)\u001b[0m\n\u001b[1;32m    754\u001b[0m         mgr \u001b[39m=\u001b[39m arrays_to_mgr(\n\u001b[1;32m    755\u001b[0m             arrays,\n\u001b[1;32m    756\u001b[0m             columns,\n\u001b[0;32m   (...)\u001b[0m\n\u001b[1;32m    759\u001b[0m             typ\u001b[39m=\u001b[39mmanager,\n\u001b[1;32m    760\u001b[0m         )\n\u001b[1;32m    761\u001b[0m     \u001b[39melse\u001b[39;00m:\n\u001b[0;32m--> 762\u001b[0m         mgr \u001b[39m=\u001b[39m ndarray_to_mgr(\n\u001b[1;32m    763\u001b[0m             data,\n\u001b[1;32m    764\u001b[0m             index,\n\u001b[1;32m    765\u001b[0m             columns,\n\u001b[1;32m    766\u001b[0m             dtype\u001b[39m=\u001b[39;49mdtype,\n\u001b[1;32m    767\u001b[0m             copy\u001b[39m=\u001b[39;49mcopy,\n\u001b[1;32m    768\u001b[0m             typ\u001b[39m=\u001b[39;49mmanager,\n\u001b[1;32m    769\u001b[0m         )\n\u001b[1;32m    770\u001b[0m \u001b[39melse\u001b[39;00m:\n\u001b[1;32m    771\u001b[0m     mgr \u001b[39m=\u001b[39m dict_to_mgr(\n\u001b[1;32m    772\u001b[0m         {},\n\u001b[1;32m    773\u001b[0m         index,\n\u001b[0;32m   (...)\u001b[0m\n\u001b[1;32m    776\u001b[0m         typ\u001b[39m=\u001b[39mmanager,\n\u001b[1;32m    777\u001b[0m     )\n",
      "File \u001b[0;32m~/.local/lib/python3.11/site-packages/pandas/core/internals/construction.py:329\u001b[0m, in \u001b[0;36mndarray_to_mgr\u001b[0;34m(values, index, columns, dtype, copy, typ)\u001b[0m\n\u001b[1;32m    324\u001b[0m         values \u001b[39m=\u001b[39m values\u001b[39m.\u001b[39mreshape(\u001b[39m-\u001b[39m\u001b[39m1\u001b[39m, \u001b[39m1\u001b[39m)\n\u001b[1;32m    326\u001b[0m \u001b[39melse\u001b[39;00m:\n\u001b[1;32m    327\u001b[0m     \u001b[39m# by definition an array here\u001b[39;00m\n\u001b[1;32m    328\u001b[0m     \u001b[39m# the dtypes will be coerced to a single dtype\u001b[39;00m\n\u001b[0;32m--> 329\u001b[0m     values \u001b[39m=\u001b[39m _prep_ndarraylike(values, copy\u001b[39m=\u001b[39;49mcopy_on_sanitize)\n\u001b[1;32m    331\u001b[0m \u001b[39mif\u001b[39;00m dtype \u001b[39mis\u001b[39;00m \u001b[39mnot\u001b[39;00m \u001b[39mNone\u001b[39;00m \u001b[39mand\u001b[39;00m \u001b[39mnot\u001b[39;00m is_dtype_equal(values\u001b[39m.\u001b[39mdtype, dtype):\n\u001b[1;32m    332\u001b[0m     \u001b[39m# GH#40110 see similar check inside sanitize_array\u001b[39;00m\n\u001b[1;32m    333\u001b[0m     rcf \u001b[39m=\u001b[39m \u001b[39mnot\u001b[39;00m (is_integer_dtype(dtype) \u001b[39mand\u001b[39;00m values\u001b[39m.\u001b[39mdtype\u001b[39m.\u001b[39mkind \u001b[39m==\u001b[39m \u001b[39m\"\u001b[39m\u001b[39mf\u001b[39m\u001b[39m\"\u001b[39m)\n",
      "File \u001b[0;32m~/.local/lib/python3.11/site-packages/pandas/core/internals/construction.py:583\u001b[0m, in \u001b[0;36m_prep_ndarraylike\u001b[0;34m(values, copy)\u001b[0m\n\u001b[1;32m    581\u001b[0m     values \u001b[39m=\u001b[39m values\u001b[39m.\u001b[39mreshape((values\u001b[39m.\u001b[39mshape[\u001b[39m0\u001b[39m], \u001b[39m1\u001b[39m))\n\u001b[1;32m    582\u001b[0m \u001b[39melif\u001b[39;00m values\u001b[39m.\u001b[39mndim \u001b[39m!=\u001b[39m \u001b[39m2\u001b[39m:\n\u001b[0;32m--> 583\u001b[0m     \u001b[39mraise\u001b[39;00m \u001b[39mValueError\u001b[39;00m(\u001b[39mf\u001b[39m\u001b[39m\"\u001b[39m\u001b[39mMust pass 2-d input. shape=\u001b[39m\u001b[39m{\u001b[39;00mvalues\u001b[39m.\u001b[39mshape\u001b[39m}\u001b[39;00m\u001b[39m\"\u001b[39m)\n\u001b[1;32m    585\u001b[0m \u001b[39mreturn\u001b[39;00m values\n",
      "\u001b[0;31mValueError\u001b[0m: Must pass 2-d input. shape=(1, 7, 2)"
     ]
    }
   ],
   "source": [
    "#getting rid of [ ] in str class\n",
    "for column in df:\n",
    "    for i in range(len(df[column])):\n",
    "        df[column][i] = df[column][i].replace(\"[\", \"\")\n",
    "        df[column][i] = df[column][i].replace(\"]\", \"\")\n",
    "new = []\n",
    "#turning the str into float\n",
    "#df1 = df[0].str.split('\\s+', expand=True)\n",
    "#df2 = df[1].str.split('\\s+', expand=True)\n",
    "\n",
    "for i in df:\n",
    "    new.append([df[i].str.split('\\s+', expand=True)])\n",
    "print(len(new))\n",
    "cn = 0\n",
    "for j in range(len(new) - 1):\n",
    "    print(j)\n",
    "    df[[cn, cn+1]] = new[j]\n",
    "    cn += 2\n",
    "    cn += 2\n",
    "    print(cn)\n",
    "print(df)\n",
    "#df[[0, 1]] = df1\n",
    "#df[[2, 3]] = df2\n",
    "\n",
    "\n"
   ]
  },
  {
   "cell_type": "code",
   "execution_count": null,
   "id": "c06c6752",
   "metadata": {},
   "outputs": [
    {
     "name": "stdout",
     "output_type": "stream",
     "text": [
      "Empty DataFrame\n",
      "Columns: []\n",
      "Index: []\n"
     ]
    }
   ],
   "source": [
    "d = df.copy()\n",
    "print(df.compare(d))"
   ]
  }
 ],
 "metadata": {
  "kernelspec": {
   "display_name": "Python 3 (ipykernel)",
   "language": "python",
   "name": "python3"
  },
  "language_info": {
   "codemirror_mode": {
    "name": "ipython",
    "version": 3
   },
   "file_extension": ".py",
   "mimetype": "text/x-python",
   "name": "python",
   "nbconvert_exporter": "python",
   "pygments_lexer": "ipython3",
   "version": "3.11.2"
  }
 },
 "nbformat": 4,
 "nbformat_minor": 5
}
