{
 "cells": [
  {
   "cell_type": "code",
   "execution_count": 21,
   "metadata": {},
   "outputs": [
    {
     "name": "stdout",
     "output_type": "stream",
     "text": [
      "\n",
      "Notre Tableau de données (Sachant que les données sont hétérogènes)\n",
      "\n"
     ]
    },
    {
     "data": {
      "text/html": [
       "<div>\n",
       "<style scoped>\n",
       "    .dataframe tbody tr th:only-of-type {\n",
       "        vertical-align: middle;\n",
       "    }\n",
       "\n",
       "    .dataframe tbody tr th {\n",
       "        vertical-align: top;\n",
       "    }\n",
       "\n",
       "    .dataframe thead th {\n",
       "        text-align: right;\n",
       "    }\n",
       "</style>\n",
       "<table border=\"1\" class=\"dataframe\">\n",
       "  <thead>\n",
       "    <tr style=\"text-align: right;\">\n",
       "      <th></th>\n",
       "      <th>0</th>\n",
       "      <th>1</th>\n",
       "    </tr>\n",
       "  </thead>\n",
       "  <tbody>\n",
       "    <tr>\n",
       "      <th>0</th>\n",
       "      <td>2</td>\n",
       "      <td>3</td>\n",
       "    </tr>\n",
       "    <tr>\n",
       "      <th>1</th>\n",
       "      <td>4</td>\n",
       "      <td>5</td>\n",
       "    </tr>\n",
       "    <tr>\n",
       "      <th>2</th>\n",
       "      <td>6</td>\n",
       "      <td>1</td>\n",
       "    </tr>\n",
       "  </tbody>\n",
       "</table>\n",
       "</div>"
      ],
      "text/plain": [
       "   0  1\n",
       "0  2  3\n",
       "1  4  5\n",
       "2  6  1"
      ]
     },
     "metadata": {},
     "output_type": "display_data"
    }
   ],
   "source": [
    "#EXO4 de Fichier TP2\n",
    "#applique l'ACP sur la matrice\n",
    "\n",
    "import numpy as np\n",
    "import pandas as pd\n",
    "import matplotlib.pyplot as plt\n",
    "\n",
    "matrice = np.array([[2, 3],\n",
    "                    [4, 5],\n",
    "                    [6, 1]])\n",
    "a = np.array([[8, 1, 0],\n",
    "                    [4, 6, 5],\n",
    "                    [6, 8, 7],\n",
    "                    [10, 4, 7],\n",
    "                    [8, 2, 5],\n",
    "                    [0, 3, 6]])\n",
    "df = pd.DataFrame(data=matrice)\n",
    "print(\"\\nNotre Tableau de données (Sachant que les données sont hétérogènes)\\n\")\n",
    "display(df)"
   ]
  },
  {
   "cell_type": "code",
   "execution_count": 22,
   "metadata": {},
   "outputs": [
    {
     "name": "stdout",
     "output_type": "stream",
     "text": [
      "\n",
      "Etape 1: Centrer le tableau: X = X - g avec g = moyenne\n",
      "\n"
     ]
    },
    {
     "data": {
      "text/html": [
       "<div>\n",
       "<style scoped>\n",
       "    .dataframe tbody tr th:only-of-type {\n",
       "        vertical-align: middle;\n",
       "    }\n",
       "\n",
       "    .dataframe tbody tr th {\n",
       "        vertical-align: top;\n",
       "    }\n",
       "\n",
       "    .dataframe thead th {\n",
       "        text-align: right;\n",
       "    }\n",
       "</style>\n",
       "<table border=\"1\" class=\"dataframe\">\n",
       "  <thead>\n",
       "    <tr style=\"text-align: right;\">\n",
       "      <th></th>\n",
       "      <th>0</th>\n",
       "      <th>1</th>\n",
       "    </tr>\n",
       "  </thead>\n",
       "  <tbody>\n",
       "    <tr>\n",
       "      <th>0</th>\n",
       "      <td>-2.0</td>\n",
       "      <td>0.0</td>\n",
       "    </tr>\n",
       "    <tr>\n",
       "      <th>1</th>\n",
       "      <td>0.0</td>\n",
       "      <td>2.0</td>\n",
       "    </tr>\n",
       "    <tr>\n",
       "      <th>2</th>\n",
       "      <td>2.0</td>\n",
       "      <td>-2.0</td>\n",
       "    </tr>\n",
       "  </tbody>\n",
       "</table>\n",
       "</div>"
      ],
      "text/plain": [
       "     0    1\n",
       "0 -2.0  0.0\n",
       "1  0.0  2.0\n",
       "2  2.0 -2.0"
      ]
     },
     "metadata": {},
     "output_type": "display_data"
    }
   ],
   "source": [
    "print(\"\\nEtape 1: Centrer le tableau: X = X - g avec g = moyenne\\n\")\n",
    "df1 = pd.DataFrame()\n",
    "for i in df:\n",
    "    df1[i] = df[i] - df[i].mean()\n",
    "display(df1)"
   ]
  },
  {
   "cell_type": "code",
   "execution_count": 23,
   "metadata": {},
   "outputs": [
    {
     "name": "stdout",
     "output_type": "stream",
     "text": [
      "\n",
      "Etape 2: Calculer la matrice variance covariance: V = 1 / N * Xt * X\n",
      "\n"
     ]
    },
    {
     "data": {
      "text/plain": [
       "array([[ 2.66666667, -1.33333333],\n",
       "       [-1.33333333,  2.66666667]])"
      ]
     },
     "metadata": {},
     "output_type": "display_data"
    }
   ],
   "source": [
    "print(\"\\nEtape 2: Calculer la matrice variance covariance: V = 1 / N * Xt * X\\n\")\n",
    "df_t = df1.transpose()\n",
    "vaco = np.dot(df1.transpose(), df1)\n",
    "V = (1 / df.shape[0]) * vaco\n",
    "display(V)"
   ]
  },
  {
   "cell_type": "code",
   "execution_count": 24,
   "metadata": {},
   "outputs": [
    {
     "name": "stdout",
     "output_type": "stream",
     "text": [
      "\n",
      "Etape 3: Déterminer la métrique M:\n",
      "\n",
      "Pour les données homogéne:\n"
     ]
    },
    {
     "data": {
      "text/html": [
       "<div>\n",
       "<style scoped>\n",
       "    .dataframe tbody tr th:only-of-type {\n",
       "        vertical-align: middle;\n",
       "    }\n",
       "\n",
       "    .dataframe tbody tr th {\n",
       "        vertical-align: top;\n",
       "    }\n",
       "\n",
       "    .dataframe thead th {\n",
       "        text-align: right;\n",
       "    }\n",
       "</style>\n",
       "<table border=\"1\" class=\"dataframe\">\n",
       "  <thead>\n",
       "    <tr style=\"text-align: right;\">\n",
       "      <th></th>\n",
       "      <th>0</th>\n",
       "      <th>1</th>\n",
       "    </tr>\n",
       "  </thead>\n",
       "  <tbody>\n",
       "    <tr>\n",
       "      <th>0</th>\n",
       "      <td>1.0</td>\n",
       "      <td>0.0</td>\n",
       "    </tr>\n",
       "    <tr>\n",
       "      <th>1</th>\n",
       "      <td>0.0</td>\n",
       "      <td>1.0</td>\n",
       "    </tr>\n",
       "  </tbody>\n",
       "</table>\n",
       "</div>"
      ],
      "text/plain": [
       "     0    1\n",
       "0  1.0  0.0\n",
       "1  0.0  1.0"
      ]
     },
     "metadata": {},
     "output_type": "display_data"
    },
    {
     "name": "stdout",
     "output_type": "stream",
     "text": [
      "\n",
      "Pour les données hétérogènes:\n"
     ]
    },
    {
     "data": {
      "text/html": [
       "<div>\n",
       "<style scoped>\n",
       "    .dataframe tbody tr th:only-of-type {\n",
       "        vertical-align: middle;\n",
       "    }\n",
       "\n",
       "    .dataframe tbody tr th {\n",
       "        vertical-align: top;\n",
       "    }\n",
       "\n",
       "    .dataframe thead th {\n",
       "        text-align: right;\n",
       "    }\n",
       "</style>\n",
       "<table border=\"1\" class=\"dataframe\">\n",
       "  <thead>\n",
       "    <tr style=\"text-align: right;\">\n",
       "      <th></th>\n",
       "      <th>0</th>\n",
       "      <th>1</th>\n",
       "    </tr>\n",
       "  </thead>\n",
       "  <tbody>\n",
       "    <tr>\n",
       "      <th>0</th>\n",
       "      <td>0.375</td>\n",
       "      <td>0.000</td>\n",
       "    </tr>\n",
       "    <tr>\n",
       "      <th>1</th>\n",
       "      <td>0.000</td>\n",
       "      <td>0.375</td>\n",
       "    </tr>\n",
       "  </tbody>\n",
       "</table>\n",
       "</div>"
      ],
      "text/plain": [
       "       0      1\n",
       "0  0.375  0.000\n",
       "1  0.000  0.375"
      ]
     },
     "metadata": {},
     "output_type": "display_data"
    }
   ],
   "source": [
    "print(\"\\nEtape 3: Déterminer la métrique M:\\n\")\n",
    "print(\"Pour les données homogéne:\")\n",
    "m_ho = np.zeros((df.shape[1], df.shape[1]), float)\n",
    "np.fill_diagonal(m_ho, 1)\n",
    "I = pd.DataFrame(data=m_ho)\n",
    "display(I)\n",
    "print(\"\\nPour les données hétérogènes:\")\n",
    "m_he = np.zeros((df.shape[1], df.shape[1]), float)\n",
    "np.fill_diagonal(m_he, 1 / V[0][0])\n",
    "M = pd.DataFrame(data=m_he)\n",
    "display(M)"
   ]
  },
  {
   "cell_type": "code",
   "execution_count": 25,
   "metadata": {},
   "outputs": [
    {
     "name": "stdout",
     "output_type": "stream",
     "text": [
      "\n",
      "Etape 4: Recherche des axes principaux Uk de la matrice (VM)\n",
      "\n",
      "\t=> Calculer les valeurs propres Dét(VM - ΛI) = 0\n",
      "(array([4.        , 1.33333333]), array([[ 0.70710678,  0.70710678],\n",
      "       [-0.70710678,  0.70710678]]))\n",
      "\n",
      "\t=> Trier Les valeurs propres par ordre décroissant: lambda1 > lamba2..\n",
      "[4.0, 1.3333333333333333]\n",
      "\n",
      "On a: [1.3333333333333333, 4.0] Alors: lambda1 = 4.0 et lambda2 = 1.3333333333333333\n"
     ]
    }
   ],
   "source": [
    "print(\"\\nEtape 4: Recherche des axes principaux Uk de la matrice (VM)\\n\")\n",
    "print(\"\\t=> Calculer les valeurs propres Dét(VM - ΛI) = 0\")\n",
    "#x1 = - vaco[0][1] / df.shape[0] #pour 4-3x0\n",
    "#x2 = (vaco[0][0] - vaco[0][1]) / df.shape[0] #pour 8 - 3x + 4\n",
    "#c = 0\n",
    "#print(vaco, \"- x\\n\", I)\n",
    "det = np.linalg.eig(V)\n",
    "print(det)\n",
    "print(\"\\n\\t=> Trier Les valeurs propres par ordre décroissant: lambda1 > lamba2..\")\n",
    "l = []\n",
    "\n",
    "newl = sorted(l)\n",
    "\n",
    "for i in det[0]:\n",
    "    l.append(i)\n",
    "print(\"\\nOn a:\", sorted(l), \"Alors: lambda1 =\", max(l), \"et lambda2 =\", min(l))"
   ]
  },
  {
   "cell_type": "code",
   "execution_count": 26,
   "metadata": {},
   "outputs": [
    {
     "name": "stdout",
     "output_type": "stream",
     "text": [
      "\n",
      "Etape 5: Calculer la qualité de représentation: Q\n",
      "\n",
      "La Qualité = 1.0\n",
      "Les axes principaux sont: [4.0, 1.3333333333333333]\n"
     ]
    }
   ],
   "source": [
    "print(\"\\nEtape 5: Calculer la qualité de représentation: Q\\n\")\n",
    "q = 0.0\n",
    "i = len(l) - 1\n",
    "while q < 0.8:\n",
    "    if i == 0 :\n",
    "        q = (sum(l)) / sum(l)\n",
    "        print(\"La Qualité =\", q)\n",
    "        print(\"Les axes principaux sont:\", l)\n",
    "    else: \n",
    "        q = (sum(l) - l[i])/ sum(l)\n",
    "    i -= 1"
   ]
  },
  {
   "cell_type": "code",
   "execution_count": 27,
   "metadata": {},
   "outputs": [
    {
     "name": "stdout",
     "output_type": "stream",
     "text": [
      "\n",
      "Etape 6: Calculer les vacteurs propres Uk: V*M*U = lambda*U \n",
      "\n",
      "Pour lambda1 = 4.0 V * M* U1 = Lambda1 * U1:\n",
      "\n",
      "[-0.70710678  0.70710678]\n",
      "\n",
      "Pour lambda2 = 1.3333333333333333 V * M* U2 = Lambda2 * U2:\n",
      "\n",
      "[0.70710678 0.70710678]\n"
     ]
    }
   ],
   "source": [
    "print(\"\\nEtape 6: Calculer les vacteurs propres Uk: V*M*U = lambda*U \\n\")\n",
    "u = [[det[1][0][0], det[1][0][1]], [det[1][1][0], det[1][1][1]]]\n",
    "print(\"Pour lambda1 =\", max(l), \"V * M* U1 = Lambda1 * U1:\\n\")\n",
    "U1 = np.array(u[1])\n",
    "print(U1)\n",
    "print(\"\\nPour lambda2 =\", min(l), \"V * M* U2 = Lambda2 * U2:\\n\")\n",
    "U2 = np.array(u[0])\n",
    "print(U2)"
   ]
  },
  {
   "cell_type": "code",
   "execution_count": 28,
   "metadata": {},
   "outputs": [
    {
     "name": "stdout",
     "output_type": "stream",
     "text": [
      "\n",
      "Etape 7: Calculer les composantes principales: C = <Xi, Uk> = X.T * M * Uk et Ck = X * M * U\n",
      "\n",
      "Pour C1:\n",
      "\n",
      "[ 1.41421356  1.41421356 -2.82842712]\n",
      "\n",
      "Pour C2:\n",
      "\n",
      "[-1.41421356  1.41421356  0.        ]\n",
      "\n",
      "On a C = \n",
      "         U1        U2\n",
      "0  1.414214 -1.414214\n",
      "1  1.414214  1.414214\n",
      "2 -2.828427  0.000000\n"
     ]
    }
   ],
   "source": [
    "print(\"\\nEtape 7: Calculer les composantes principales: C = <Xi, Uk> = X.T * M * Uk et Ck = X * M * U\\n\")\n",
    "C1 = np.dot(df1, U1)\n",
    "print(\"Pour C1:\\n\")\n",
    "print(C1)\n",
    "C2 = np.dot(df1, U2)\n",
    "print(\"\\nPour C2:\\n\")\n",
    "print(C2)\n",
    "C = pd.DataFrame()\n",
    "C[\"U1\"] = C1\n",
    "C[\"U2\"] = C2\n",
    "print(\"\\nOn a C = \")\n",
    "print(C)"
   ]
  },
  {
   "cell_type": "code",
   "execution_count": 29,
   "metadata": {},
   "outputs": [
    {
     "name": "stdout",
     "output_type": "stream",
     "text": [
      "\n",
      "Etape 8: Represésenter graphiquement les individus dans l'espace réduit:\n",
      "\n"
     ]
    },
    {
     "data": {
      "image/png": "[encoded data removed]",
      "text/plain": [
       "<Figure size 640x480 with 1 Axes>"
      ]
     },
     "metadata": {},
     "output_type": "display_data"
    }
   ],
   "source": [
    "print(\"\\nEtape 8: Represésenter graphiquement les individus dans l'espace réduit:\\n\")\n",
    "#plt.plot(C[\"U1\"], C[\"U2\"])\n",
    "C.plot(x='U1', y='U2', kind='scatter')\t\n",
    "plt.show()"
   ]
  },
  {
   "cell_type": "code",
   "execution_count": 30,
   "metadata": {},
   "outputs": [
    {
     "name": "stdout",
     "output_type": "stream",
     "text": [
      "\n",
      "Etape 9: Les contributions aux inerties :\n",
      "\n",
      "\t => Part d’inertie de 𝑋𝑖 prise en compte par l’axe 𝑈𝑘:\n",
      "\t => Contribution relative de l’individu 𝑋𝑖 à l’inertie expliquée de l’axe 𝑈𝑘:\n"
     ]
    }
   ],
   "source": [
    "print(\"\\nEtape 9: Les contributions aux inerties :\\n\")\n",
    "print(\"\\t => Part d’inertie de 𝑋𝑖 prise en compte par l’axe 𝑈𝑘:\")\n",
    "print(\"\\t => Contribution relative de l’individu 𝑋𝑖 à l’inertie expliquée de l’axe 𝑈𝑘:\")"
   ]
  }
 ],
 "metadata": {
  "kernelspec": {
   "display_name": "Python 3",
   "language": "python",
   "name": "python3"
  },
  "language_info": {
   "codemirror_mode": {
    "name": "ipython",
    "version": 3
   },
   "file_extension": ".py",
   "mimetype": "text/x-python",
   "name": "python",
   "nbconvert_exporter": "python",
   "pygments_lexer": "ipython3",
   "version": "3.11.2"
  },
  "orig_nbformat": 4
 },
 "nbformat": 4,
 "nbformat_minor": 2
}
